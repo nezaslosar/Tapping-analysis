{
 "cells": [
  {
   "cell_type": "markdown",
   "id": "0496cb9e",
   "metadata": {},
   "source": [
    "You might run jupyter notebook through admin: ALT + f + s + a, when you are in folder"
   ]
  },
  {
   "cell_type": "code",
   "execution_count": null,
   "id": "5c4d86a5",
   "metadata": {},
   "outputs": [],
   "source": [
    "!pip install xlsxwriter"
   ]
  },
  {
   "cell_type": "code",
   "execution_count": null,
   "id": "baacba37",
   "metadata": {},
   "outputs": [],
   "source": [
    "#Install all packages from python to R for using in Python\n",
    "\n",
    "import rpy2.robjects.packages as rpackages\n",
    "\n",
    "\n",
    "utils = importr('utils')\n",
    "base = importr('base')\n",
    "\n",
    "utils.chooseCRANmirror()\n",
    "\n",
    "utils.install_packages('readxl')\n",
    "utils.install_packages('circular')\n",
    "utils.install_packages('openxlsx')\n",
    "utils.install_packages('readr')\n",
    "utils.install_packages('rlang')\n",
    "\n",
    "readxl = importr('readxl')\n",
    "circular = importr('circular')\n",
    "openxlsx = importr('openxlsx')\n",
    "readr = importr('readr')\n",
    "rlang = importr('rlang')\n"
   ]
  },
  {
   "cell_type": "code",
   "execution_count": 95,
   "id": "f32ab26d",
   "metadata": {
    "scrolled": true
   },
   "outputs": [],
   "source": [
    "#All packeges needed\n",
    "import numpy as np\n",
    "import pandas as pd\n",
    "import glob\n",
    "import os\n",
    "import scipy\n",
    "import rpy2\n",
    "from rpy2.robjects.packages import importr, data\n",
    "from rpy2 import robjects\n",
    "import math\n",
    "import xlsxwriter"
   ]
  },
  {
   "cell_type": "markdown",
   "id": "db276c58",
   "metadata": {},
   "source": [
    "For all is the same"
   ]
  },
  {
   "cell_type": "code",
   "execution_count": 96,
   "id": "e7553adb",
   "metadata": {},
   "outputs": [],
   "source": [
    "#RUN!!\n",
    "#Used when you give path with \"/\"\n",
    "def get_name1(file):\n",
    "    name = str(file)\n",
    "    replacementStr = \"\"\n",
    "    \n",
    "    n = name.rfind('/')\n",
    "\n",
    "    name = name.replace(name[0 : n+1], replacementStr, 1)\n",
    "    name = name.replace(name[-4 :], replacementStr, 1)\n",
    "\n",
    "    \n",
    "    return name"
   ]
  },
  {
   "cell_type": "code",
   "execution_count": 97,
   "id": "63371878",
   "metadata": {},
   "outputs": [],
   "source": [
    "#RUN!!\n",
    "#Used when you give path with \"\\\", normally for windows\n",
    "def get_name2(file):\n",
    "    name = str(file)\n",
    "    replacementStr = \"\"\n",
    "    \n",
    "    n = name.rfind(\"\\\\\")\n",
    "\n",
    "    name = name.replace(name[0 : n+1], replacementStr, 1)\n",
    "    name = name.replace(name[-4 :], replacementStr, 1)\n",
    "\n",
    "    \n",
    "    return name"
   ]
  },
  {
   "cell_type": "markdown",
   "id": "b5b785eb",
   "metadata": {},
   "source": [
    "##### Read file"
   ]
  },
  {
   "cell_type": "code",
   "execution_count": 98,
   "id": "fe5e4126",
   "metadata": {},
   "outputs": [],
   "source": [
    "#RUN!!\n",
    "def read_edit_csv3(file):\n",
    "    df = pd.read_csv(file, encoding=\"utf-8\", index_col=False)\n",
    "    name = get_name1(file)\n",
    "\n",
    "    df[\"TrackName\"] = name\n",
    "    df = df.filter(['secs into Track','TrackName'])\n",
    "    df.rename(columns={'secs into Track': name}, inplace=True)\n",
    "    df = df.drop('TrackName', axis = 1)\n",
    "\n",
    "    return df"
   ]
  },
  {
   "cell_type": "markdown",
   "id": "11482527",
   "metadata": {},
   "source": [
    "# 80 - Functions on one sheet"
   ]
  },
  {
   "cell_type": "markdown",
   "id": "d7e511bc",
   "metadata": {},
   "source": [
    "### IOI limits calculation"
   ]
  },
  {
   "cell_type": "markdown",
   "id": "250d49e9",
   "metadata": {},
   "source": [
    "##### Output just ioi data - for concatenate in IOI"
   ]
  },
  {
   "cell_type": "code",
   "execution_count": 99,
   "id": "6fdd63ee",
   "metadata": {},
   "outputs": [],
   "source": [
    "#RUN\n",
    "def ioi_lim_alone_80(file):\n",
    "    df = read_edit_csv3(file)\n",
    "    name = get_name1(file)\n",
    "    \n",
    "    df['Difference'] = df.diff()\n",
    "    first = df.iloc[:,0].tolist()\n",
    "    second = df.iloc[:,1].tolist()\n",
    "\n",
    "    for vrstica1 in first:\n",
    "        for i, vrstica2 in enumerate(second):\n",
    "            if vrstica2 == vrstica1 or vrstica2 < 0.1:\n",
    "                vrstica2 = float('NaN')\n",
    "                second[i] = vrstica2\n",
    "            \n",
    "    df1 = pd.DataFrame({'ioi':second})\n",
    "    frames = [df,df1]\n",
    "\n",
    "    df = pd.concat(frames, axis=1)\n",
    "    df = df.drop('Difference', axis = 1)\n",
    "    df = df.rename(columns={\"ioi\": name})\n",
    "    df = df.iloc[: , 1:]\n",
    "    return df"
   ]
  },
  {
   "cell_type": "markdown",
   "id": "e10fd807",
   "metadata": {},
   "source": [
    "Add to raw data clean (2.625<x<21)"
   ]
  },
  {
   "cell_type": "code",
   "execution_count": 100,
   "id": "59a3706c",
   "metadata": {},
   "outputs": [],
   "source": [
    "#RUN!\n",
    "def ioi_lim_clean_80(file):\n",
    "    df = read_edit_csv3(file)\n",
    "    \n",
    "    first = df.iloc[:,0].tolist()\n",
    "    for i, line in enumerate(first):\n",
    "        if line < 2.625 or line > 21:\n",
    "            first[i] = 0\n",
    "    df1 = pd.DataFrame({'clean': first})\n",
    "    \n",
    "    frames = [df,df1]\n",
    "    df = pd.concat(frames, axis=1)\n",
    "\n",
    "    return df"
   ]
  },
  {
   "cell_type": "markdown",
   "id": "f504e650",
   "metadata": {},
   "source": [
    "#### Outlier filtering "
   ]
  },
  {
   "cell_type": "markdown",
   "id": "3d666c1a",
   "metadata": {},
   "source": [
    "##### Delete first 10 valid taps"
   ]
  },
  {
   "cell_type": "markdown",
   "id": "1e548261",
   "metadata": {},
   "source": [
    "After filtering, the first 10 valid taps are deleted from the beginning of each trial)"
   ]
  },
  {
   "cell_type": "code",
   "execution_count": 101,
   "id": "71d91b88",
   "metadata": {},
   "outputs": [],
   "source": [
    "#RUN!\n",
    "def ioi_lim_filt10_80(file):\n",
    "    df = ioi_lim_clean_80(file)\n",
    "    \n",
    "    df['diff'] = df['clean'].diff()\n",
    "    first = df.iloc[:,1].tolist()\n",
    "    second = df.iloc[:,2].tolist()\n",
    "    \n",
    "    delete = 0\n",
    "    for vrstica1 in first:\n",
    "        for i, vrstica2 in enumerate(second):\n",
    "            if vrstica2 == vrstica1 or vrstica2 < 0.1:\n",
    "                second[i] = 0\n",
    "            elif vrstica2 != 0 and delete < 10:\n",
    "                second[i] = 0\n",
    "                delete += 1\n",
    "    \n",
    "                           \n",
    "    df1 = pd.DataFrame({'filter10':second})\n",
    "    frames = [df,df1]\n",
    "\n",
    "    df = pd.concat(frames, axis=1)\n",
    "\n",
    "    return df"
   ]
  },
  {
   "cell_type": "markdown",
   "id": "73109631",
   "metadata": {},
   "source": [
    "Function for clean, filter and delete first 10 valid taps"
   ]
  },
  {
   "cell_type": "code",
   "execution_count": 102,
   "id": "d1c1bc43",
   "metadata": {},
   "outputs": [],
   "source": [
    "#RUN!!\n",
    "def ioi_lim_clean10_80(file):\n",
    "    df = ioi_lim_filt10_80(file)\n",
    "       \n",
    "    \n",
    "    df['filtered'] = np.where(df['filter10'] == 0,\n",
    "                             df['filter10'], df['clean'])\n",
    "    \n",
    "    df['filtered'].replace(to_replace = 0, value = float('NaN'), inplace=True)\n",
    "\n",
    "    return df #return data frame with columns: input track, clean, diff, filter10, filtered"
   ]
  },
  {
   "cell_type": "markdown",
   "id": "30aba529",
   "metadata": {},
   "source": [
    "### Calculations"
   ]
  },
  {
   "cell_type": "markdown",
   "id": "3df7682c",
   "metadata": {},
   "source": [
    "Add REF column to the data frame"
   ]
  },
  {
   "cell_type": "code",
   "execution_count": 103,
   "id": "96ddbf0a",
   "metadata": {},
   "outputs": [],
   "source": [
    "#RUN!!\n",
    "def df_prep_80(file):\n",
    "    df = ioi_lim_clean10_80(file)\n",
    "    df = df.drop(['clean', 'diff', 'filter10'], axis=1)\n",
    "    \n",
    "    s = [0]\n",
    "    x = 0\n",
    "    while x < 22:\n",
    "        x += 0.75\n",
    "        s.append(x)\n",
    "\n",
    "    df['REF'] = pd.Series(s)\n",
    "\n",
    "    return df"
   ]
  },
  {
   "cell_type": "markdown",
   "id": "54550062",
   "metadata": {},
   "source": [
    "Diff, nearest values"
   ]
  },
  {
   "cell_type": "code",
   "execution_count": 104,
   "id": "05b0dc02",
   "metadata": {},
   "outputs": [],
   "source": [
    "#RUN!!\n",
    "def df_diff_angle_80(file):\n",
    "    df = df_prep_80(file)\n",
    "    \n",
    "    df['diff'] = (pd.merge_asof(df['filtered'].dropna().sort_values().reset_index(),\n",
    "                                df[['REF']].dropna().sort_values('REF'),\n",
    "                                left_on='filtered', right_on='REF', direction='nearest')\n",
    "                    .set_index('index')['REF'].rsub(df['filtered'])\n",
    "                  )\n",
    "    \n",
    "    df['angle'] = (df['diff']/0.75)*360\n",
    "    \n",
    "    return df"
   ]
  },
  {
   "cell_type": "markdown",
   "id": "e10c1e04",
   "metadata": {},
   "source": [
    "### IOI data"
   ]
  },
  {
   "cell_type": "markdown",
   "id": "19cf7bb2",
   "metadata": {},
   "source": [
    "Give you data frame with ioi data from all participants."
   ]
  },
  {
   "cell_type": "code",
   "execution_count": 105,
   "id": "11a40916",
   "metadata": {},
   "outputs": [],
   "source": [
    "#RUN!\n",
    "def get_files_80(directory):\n",
    "    seznam = []\n",
    "\n",
    "    for dirpath, dirnames, filenames in os.walk(directory): #directory with all folders of participants\n",
    "        for filename in [f for f in filenames if f.endswith(\"80.csv\")]: #search for all 80 files\n",
    "            seznam.append(os.path.join(dirpath, filename))\n",
    "            \n",
    "    return seznam"
   ]
  },
  {
   "cell_type": "code",
   "execution_count": 106,
   "id": "1f08246e",
   "metadata": {},
   "outputs": [],
   "source": [
    "#RUN!!\n",
    "def ioi_frame_80(directory):\n",
    "    \n",
    "    seznam = get_files_80(directory)\n",
    "    li = []    \n",
    "    \n",
    "    for filename in seznam:\n",
    "        df = ioi_lim_alone_80(filename)\n",
    "        li.append(df)\n",
    "\n",
    "    frame = pd.concat(li, axis=1, ignore_index=False)\n",
    "    \n",
    "    return frame"
   ]
  },
  {
   "cell_type": "markdown",
   "id": "aeb369f1",
   "metadata": {},
   "source": [
    "##### Concatenate just IOI data"
   ]
  },
  {
   "cell_type": "markdown",
   "id": "ec25abf1",
   "metadata": {},
   "source": [
    "### IOI-limits"
   ]
  },
  {
   "cell_type": "markdown",
   "id": "b40a5c50",
   "metadata": {},
   "source": [
    "Add columns with all values together and calculate M, SD, Q1, Q3, IQR, MAX, MIN."
   ]
  },
  {
   "cell_type": "code",
   "execution_count": 107,
   "id": "60f8ca9f",
   "metadata": {},
   "outputs": [],
   "source": [
    "#RUN!\n",
    "def list_ioi_calc_80(directory):\n",
    "    frame = ioi_frame_80(directory)\n",
    "    frame['combined']= frame.values.tolist()\n",
    "    li = []\n",
    "\n",
    "    for row in frame['combined']:\n",
    "        for vsak in row:\n",
    "            li.append(vsak)\n",
    "\n",
    "    new_array = [x for x in li if math.isnan(x) == False]\n",
    "    se = pd.Series(new_array)\n",
    "    \n",
    "    df_ioi = pd.DataFrame([new_array])\n",
    "    df_ioi = df_ioi.T\n",
    "    df_ioi['all_80'] = pd.DataFrame(data=se)\n",
    "    df_ioi = df_ioi.iloc[: , 1:]\n",
    "    \n",
    "    return df_ioi"
   ]
  },
  {
   "cell_type": "code",
   "execution_count": 108,
   "id": "df7ca0ed",
   "metadata": {},
   "outputs": [],
   "source": [
    "#RUN!!\n",
    "def ioi_limits_80(directory):\n",
    "    frame = ioi_frame_80(directory)\n",
    "    df_ioi = list_ioi_calc_80(directory)\n",
    "    \n",
    "    df_ioi['mean'] = [(df_ioi['all_80'].mean())]+['']*(len(df_ioi)-1)\n",
    "    frame['mean'] = df_ioi['mean']\n",
    "    \n",
    "    df_ioi['std'] = [(df_ioi['all_80'].std())]+['']*(len(df_ioi)-1)\n",
    "    frame['std'] = df_ioi['std']\n",
    "    \n",
    "    df_ioi['q1'] = [(df_ioi['all_80'].quantile(.25, interpolation=\"nearest\"))]+['']*(len(df_ioi)-1)\n",
    "    frame['q1'] = df_ioi['q1']\n",
    "    \n",
    "    df_ioi['q3'] = [(df_ioi['all_80'].quantile(.75, interpolation=\"nearest\"))]+['']*(len(df_ioi)-1)\n",
    "    frame['q3'] = df_ioi['q3']\n",
    "    \n",
    "    df_ioi['IQR'] = [(df_ioi['q3'].iloc[0] - df_ioi['q1'].iloc[0])]+['']*(len(df_ioi)-1)\n",
    "    frame['IQR'] = df_ioi['IQR']\n",
    "    \n",
    "    df_ioi['min'] = [(df_ioi['q1'].iloc[0] - (3*(df_ioi['IQR'].iloc[0])))]+['']*(len(df_ioi)-1)\n",
    "    frame['min'] = df_ioi['min']\n",
    "    \n",
    "    df_ioi['max'] = [(df_ioi['q3'].iloc[0] + (3*(df_ioi['IQR'].iloc[0])))]+['']*(len(df_ioi)-1)\n",
    "    frame['max'] = df_ioi['max']\n",
    "    \n",
    "    return df_ioi.to_excel('df_ioi_80.xlsx'), frame.to_excel('IOI_filter_80.xlsx')"
   ]
  },
  {
   "cell_type": "markdown",
   "id": "8bde5ab0",
   "metadata": {},
   "source": [
    "### Circular analysis"
   ]
  },
  {
   "cell_type": "code",
   "execution_count": 109,
   "id": "23cdfdbc",
   "metadata": {},
   "outputs": [],
   "source": [
    "#RUN!!\n",
    "def circular_80(file):\n",
    "    prep = prep_for_r_80(file)\n",
    "    circ_in_r_80(prep)"
   ]
  },
  {
   "cell_type": "markdown",
   "id": "dcf24208",
   "metadata": {},
   "source": [
    "Create xlsx with angel column to send in R"
   ]
  },
  {
   "cell_type": "code",
   "execution_count": 110,
   "id": "b7ea2808",
   "metadata": {},
   "outputs": [],
   "source": [
    "#RUN!!\n",
    "def prep_for_r_80(file):\n",
    "    df = df_diff_angle_80(file)\n",
    "    name = get_name1(file)\n",
    "\n",
    "    df_a = df.filter(['angle'])\n",
    "        \n",
    "    return df_a.to_excel('angle_80.xlsx')"
   ]
  },
  {
   "cell_type": "markdown",
   "id": "bce006c6",
   "metadata": {},
   "source": [
    "Call R function and provide calculations, merge them in participant dataframe"
   ]
  },
  {
   "cell_type": "code",
   "execution_count": 111,
   "id": "aba20cbb",
   "metadata": {},
   "outputs": [],
   "source": [
    "#RUN!!\n",
    "\n",
    "#Excecute R circular analysis and make xlsx file with measurement\n",
    "\n",
    "def circ_in_r_80(prep):\n",
    "\n",
    "    robjects.r('''\n",
    "        circ_anal <- function (xlsx_file) {\n",
    "          library(readxl)\n",
    "          library(circular)\n",
    "          library(openxlsx)\n",
    "          library(readr)\n",
    "          library(rlang)\n",
    "\n",
    "          angle_80 <- read_excel(xlsx_file)\n",
    "\n",
    "          angle_80[1] <- NULL\n",
    "\n",
    "          circ80 <- data.frame(ID = colnames(angle_80), \n",
    "                               RAY = NA,\n",
    "                               RAYsig = NA,\n",
    "                               MEAN = NA,\n",
    "                               Rho = NA)\n",
    "\n",
    "          for(i in 1:length(circ80$ID)){\n",
    "            a <- angle_80[,i]\n",
    "            a_circ <- circular(a, units = \"degrees\", zero = circular(pi/2), rotation = \"clock\")\n",
    "            circ80$RAY[i] <- rayleigh.test(a_circ)$statistic\n",
    "            circ80$RAYsig[i] <- rayleigh.test(a_circ)$p.value\n",
    "            circ80$MEAN[i] <- mean.circular(a_circ, na.rm = TRUE)\n",
    "            circ80$Rho[i] <- rho.circular(a_circ, na.rm = TRUE)\n",
    "\n",
    "          }\n",
    "\n",
    "\n",
    "          write.xlsx(circ80,\"C:/Users/Neza/Downloads/tapping/circ80_stat.xlsx\")\n",
    "\n",
    "        }\n",
    "\n",
    "        circ_anal(\"C:/Users/Neza/Downloads/tapping/angle_80.xlsx\")\n",
    "    ''')"
   ]
  },
  {
   "cell_type": "markdown",
   "id": "eeea4b09",
   "metadata": {},
   "source": [
    "Read excel with circular data and delete angle_80 and circ80_stat files."
   ]
  },
  {
   "cell_type": "code",
   "execution_count": 112,
   "id": "09877d25",
   "metadata": {},
   "outputs": [],
   "source": [
    "#RUN!!!\n",
    "\n",
    "def final_circ_80(file):\n",
    "    circular_80(file)\n",
    "    \n",
    "    df1 = df_diff_angle_80(file)\n",
    "    df2 = pd.read_excel('circ80_stat.xlsx')\n",
    "\n",
    "    df = pd.concat([df1, df2], axis = 1)\n",
    "    df = df.drop('ID', axis=1)\n",
    "\n",
    "    os.remove(\"angle_80.xlsx\")\n",
    "    os.remove(\"circ80_stat.xlsx\")\n",
    "    \n",
    "    return df"
   ]
  },
  {
   "cell_type": "markdown",
   "id": "e130a585",
   "metadata": {},
   "source": [
    "## Cont MTC"
   ]
  },
  {
   "cell_type": "markdown",
   "id": "dba16d6a",
   "metadata": {},
   "source": [
    "Add abs(DIF) column, calculated both means, add contMTC column."
   ]
  },
  {
   "cell_type": "code",
   "execution_count": 113,
   "id": "748d974d",
   "metadata": {},
   "outputs": [],
   "source": [
    "#RUN!!\n",
    "def cont_mtc_80(file):\n",
    "    df = final_circ_80(file)\n",
    "    \n",
    "    df['abs_diff'] = df['diff'].abs()\n",
    "    df['m_diff'] = [np.mean(df['diff'])]+['']*(len(df)-1)\n",
    "    df['m_abs'] = [np.mean(df['abs_diff'])]+['']*(len(df)-1)\n",
    "    \n",
    "    first = df.iloc[:,0].tolist()\n",
    "    for i, line in enumerate(first):\n",
    "        if line <= 21:\n",
    "            first[i] = 0\n",
    "    df1 = pd.DataFrame({'contMTC': first})\n",
    "\n",
    "    frames = [df,df1]\n",
    "    df = pd.concat(frames, axis=1)\n",
    "    \n",
    "    return df"
   ]
  },
  {
   "cell_type": "markdown",
   "id": "c30410f9",
   "metadata": {},
   "source": [
    "### Add ioi filter and proceed last calculations"
   ]
  },
  {
   "cell_type": "markdown",
   "id": "5f2b5a9c",
   "metadata": {},
   "source": [
    "Concatenate df_ioi_80 excel with cont_mtc_80."
   ]
  },
  {
   "cell_type": "code",
   "execution_count": 114,
   "id": "e62afba8",
   "metadata": {},
   "outputs": [],
   "source": [
    "#RUN!!\n",
    "def final_concat_80(file, directory):\n",
    "    excels = ioi_limits_80(directory)\n",
    "    \n",
    "    df1 = cont_mtc_80(file)\n",
    "    df2 = pd.read_excel('df_ioi_80.xlsx', usecols=lambda x: 'Unnamed' not in x,)\n",
    "    \n",
    "    df2 = df2.drop('all_80', axis=1)\n",
    "    \n",
    "    frames = [df1, df2]\n",
    "    df = pd.concat(frames, axis=1)\n",
    "    \n",
    "    os.remove(\"df_ioi_80.xlsx\")\n",
    "    \n",
    "    return df"
   ]
  },
  {
   "cell_type": "markdown",
   "id": "bbf833c5",
   "metadata": {},
   "source": [
    "## Cont IOI measures"
   ]
  },
  {
   "cell_type": "markdown",
   "id": "b20972d3",
   "metadata": {},
   "source": [
    "From contMTC delete if difference is out of calculated ioi limits."
   ]
  },
  {
   "cell_type": "code",
   "execution_count": 115,
   "id": "6025ee3b",
   "metadata": {},
   "outputs": [],
   "source": [
    "#RUN!!\n",
    "def pre_ioi_filt_80(file, directory):\n",
    "    df = final_concat_80(file, directory)\n",
    "    \n",
    "    df['Difference'] = df['contMTC'].diff()\n",
    "    first = df['Difference'].tolist()\n",
    "    \n",
    "    for i, vrstica in enumerate(first):\n",
    "        if vrstica < (df['min'].iloc[0]) or vrstica > (df['max'].iloc[0]):\n",
    "            first[i] = 0            \n",
    "            \n",
    "    df1 = pd.DataFrame({'preIOI': first})\n",
    "    frames = [df,df1]\n",
    "\n",
    "    df = pd.concat(frames, axis=1)\n",
    "    df = df.drop('Difference', axis = 1)\n",
    "    \n",
    "    col = df['preIOI'].tolist()\n",
    "    st = 0\n",
    "\n",
    "    for i, line in enumerate(col):\n",
    "        if line != 0 and st <= 29:\n",
    "            st += 1\n",
    "        elif line != 0 and st > 29:\n",
    "            col[i] = 0\n",
    "\n",
    "    df1 = pd.DataFrame({'preIOI_29': col})\n",
    "    frames = [df,df1]\n",
    "\n",
    "    df = pd.concat(frames, axis=1)\n",
    "    \n",
    "    return df"
   ]
  },
  {
   "cell_type": "markdown",
   "id": "29db9afc",
   "metadata": {},
   "source": [
    "ContIOI calculated: delete smaller than 0.1 and outliers based on quartiles of participant (preIOI quartiles)."
   ]
  },
  {
   "cell_type": "code",
   "execution_count": 116,
   "id": "cdf56be7",
   "metadata": {},
   "outputs": [],
   "source": [
    "#RUN!!!\n",
    "\n",
    "def cont_ioi_final_80(file, directory):\n",
    "    df = pre_ioi_filt_80(file, directory)\n",
    "    df['contMTC'].replace(to_replace = 0, value = float('NaN'), inplace=True)\n",
    "    df['preIOI'].replace(to_replace = 0, value = float('NaN'), inplace=True)\n",
    "    df['preIOI_29'].replace(to_replace = 0, value = float('NaN'), inplace=True)\n",
    "    \n",
    "    first = df['preIOI_29'].tolist()\n",
    "    \n",
    "    q1 = np.quantile(first, .25)\n",
    "    q3 = np.quantile(first, .75)\n",
    "    iqr = q3 - q1\n",
    "    \n",
    "    for i, vrstica in enumerate(first):\n",
    "        if vrstica < 0.1 or vrstica < (q1 - (3*iqr)) or vrstica > (q3 + (3*iqr)):\n",
    "            first[i] = 0\n",
    "            \n",
    "            \n",
    "    df1 = pd.DataFrame({'contIOI': first})\n",
    "    frames = [df,df1]\n",
    "\n",
    "    df = pd.concat(frames, axis=1)\n",
    "    df['contIOI'].replace(to_replace = 0, value = float('NaN'), inplace=True)\n",
    "    \n",
    "    return df"
   ]
  },
  {
   "cell_type": "markdown",
   "id": "535d6573",
   "metadata": {},
   "source": [
    "Last measures: avg, std, IOI elemszám, TÖRÖLNI."
   ]
  },
  {
   "cell_type": "code",
   "execution_count": 117,
   "id": "fb778d1d",
   "metadata": {},
   "outputs": [],
   "source": [
    "#RUN!!\n",
    "#Change get_name in final version!\n",
    "\n",
    "def all_calc_80(file, directory):\n",
    "    df = cont_ioi_final_80(file, directory)\n",
    "    name = get_name1(file)\n",
    "    \n",
    "    df['mIOIcont'] = [df['contIOI'].mean()]+['']*(len(df)-1)\n",
    "    df['CVcont'] = [(df['contIOI'].std())/(df['mIOIcont'].iloc[0])]+['']*(len(df)-1)\n",
    "    \n",
    "    df['IOIelemszam'] = [((df['contIOI'] != 0).sum())]+['']*(len(df)-1)\n",
    "    #df['torolni'] = [(df['IOIelemszam'].iloc[0]) - 29]+['']*(len(df)-1)\n",
    "    \n",
    "    #df.to_excel(name+\".xlsx\",\n",
    "     #        sheet_name='80') #later put in the function with all dataframes, all tempos\n",
    "    \n",
    "    return df"
   ]
  },
  {
   "cell_type": "markdown",
   "id": "16e1b8cd",
   "metadata": {},
   "source": [
    "# 80m - Functions on one sheet"
   ]
  },
  {
   "cell_type": "markdown",
   "id": "05f7c3b6",
   "metadata": {},
   "source": [
    "Everything same as in 80, just on metronome, all calculations are same."
   ]
  },
  {
   "cell_type": "markdown",
   "id": "baed0901",
   "metadata": {},
   "source": [
    "### IOI limits calculation"
   ]
  },
  {
   "cell_type": "markdown",
   "id": "427ca4d9",
   "metadata": {},
   "source": [
    "##### Output just ioi data - for concatenate in IOI"
   ]
  },
  {
   "cell_type": "code",
   "execution_count": 118,
   "id": "e7aa0b7a",
   "metadata": {},
   "outputs": [],
   "source": [
    "#RUN\n",
    "def ioi_lim_alone_80m(file):\n",
    "    df = read_edit_csv3(file)\n",
    "    name = get_name2(file)\n",
    "    \n",
    "    df['Difference'] = df.diff()\n",
    "    first = df.iloc[:,0].tolist()\n",
    "    second = df.iloc[:,1].tolist()\n",
    "\n",
    "    for vrstica1 in first:\n",
    "        for i, vrstica2 in enumerate(second):\n",
    "            if vrstica2 == vrstica1 or vrstica2 < 0.1:\n",
    "                vrstica2 = float('NaN')\n",
    "                second[i] = vrstica2\n",
    "            \n",
    "    df1 = pd.DataFrame({'ioi':second})\n",
    "    frames = [df,df1]\n",
    "\n",
    "    df = pd.concat(frames, axis=1)\n",
    "    df = df.drop('Difference', axis = 1)\n",
    "    df = df.rename(columns={\"ioi\": name})\n",
    "    df = df.iloc[: , 1:]\n",
    "    return df"
   ]
  },
  {
   "cell_type": "markdown",
   "id": "01e722cc",
   "metadata": {},
   "source": [
    "Add to raw data clean (2.625<x<21)"
   ]
  },
  {
   "cell_type": "code",
   "execution_count": 119,
   "id": "da5357e4",
   "metadata": {},
   "outputs": [],
   "source": [
    "#RUN!\n",
    "def ioi_lim_clean_80m(file):\n",
    "    df = read_edit_csv3(file)\n",
    "    #name = get_name(file)\n",
    "    \n",
    "    first = df.iloc[:,0].tolist()\n",
    "    for i, line in enumerate(first):\n",
    "        if line < 2.625 or line > 21:\n",
    "            first[i] = 0\n",
    "    df1 = pd.DataFrame({'clean': first})\n",
    "    \n",
    "    frames = [df,df1]\n",
    "    df = pd.concat(frames, axis=1)\n",
    "\n",
    "    return df"
   ]
  },
  {
   "cell_type": "markdown",
   "id": "b9dfc64e",
   "metadata": {},
   "source": [
    "#### Outlier filtering "
   ]
  },
  {
   "cell_type": "markdown",
   "id": "e28d0b35",
   "metadata": {},
   "source": [
    "##### Delete first 10 valid taps"
   ]
  },
  {
   "cell_type": "markdown",
   "id": "5a45b203",
   "metadata": {},
   "source": [
    "After filtering, the first 10 valid taps are deleted from the beginning of each trial)"
   ]
  },
  {
   "cell_type": "code",
   "execution_count": 120,
   "id": "1c82858b",
   "metadata": {},
   "outputs": [],
   "source": [
    "#RUN!\n",
    "def ioi_lim_filt10_80m(file):\n",
    "    df = ioi_lim_clean_80m(file)\n",
    "    #name = get_name(file)\n",
    "    \n",
    "    df['diff'] = df['clean'].diff()\n",
    "    first = df.iloc[:,1].tolist()\n",
    "    second = df.iloc[:,2].tolist()\n",
    "    \n",
    "    delete = 0\n",
    "    for vrstica1 in first:\n",
    "        for i, vrstica2 in enumerate(second):\n",
    "            if vrstica2 == vrstica1 or vrstica2 < 0.1:\n",
    "                second[i] = 0\n",
    "            elif vrstica2 != 0 and delete < 10:\n",
    "                second[i] = 0\n",
    "                delete += 1\n",
    "    \n",
    "                           \n",
    "    df1 = pd.DataFrame({'filter10':second})\n",
    "    frames = [df,df1]\n",
    "\n",
    "    df = pd.concat(frames, axis=1)\n",
    "\n",
    "    return df"
   ]
  },
  {
   "cell_type": "markdown",
   "id": "366bc3f7",
   "metadata": {},
   "source": [
    "Function for clean, filter and delete first 10 valid taps"
   ]
  },
  {
   "cell_type": "code",
   "execution_count": 121,
   "id": "efadb588",
   "metadata": {},
   "outputs": [],
   "source": [
    "#RUN!!\n",
    "def ioi_lim_clean10_80m(file):\n",
    "    df = ioi_lim_filt10_80m(file)\n",
    "       \n",
    "    \n",
    "    df['filtered'] = np.where(df['filter10'] == 0,\n",
    "                             df['filter10'], df['clean'])\n",
    "    \n",
    "    df['filtered'].replace(to_replace = 0, value = float('NaN'), inplace=True)\n",
    "\n",
    "    return df #return data frame with columns: input track, clean, diff, filter10, filtered"
   ]
  },
  {
   "cell_type": "markdown",
   "id": "84c98b9d",
   "metadata": {},
   "source": [
    "### Calculations"
   ]
  },
  {
   "cell_type": "markdown",
   "id": "6cd6e06c",
   "metadata": {},
   "source": [
    "Add REF column to the data frame"
   ]
  },
  {
   "cell_type": "code",
   "execution_count": 122,
   "id": "d5b81fe3",
   "metadata": {},
   "outputs": [],
   "source": [
    "#RUN!!\n",
    "def df_prep_80m(file):\n",
    "    df = ioi_lim_clean10_80m(file)\n",
    "    df = df.drop(['clean', 'diff', 'filter10'], axis=1)\n",
    "    \n",
    "    s = [0]\n",
    "    x = 0\n",
    "    while x < 22:\n",
    "        x += 0.75\n",
    "        s.append(x)\n",
    "\n",
    "    df['REF'] = pd.Series(s)\n",
    "\n",
    "    return df"
   ]
  },
  {
   "cell_type": "markdown",
   "id": "d6e781d8",
   "metadata": {},
   "source": [
    "Diff, nearest values"
   ]
  },
  {
   "cell_type": "code",
   "execution_count": 123,
   "id": "6112cc9a",
   "metadata": {},
   "outputs": [],
   "source": [
    "#RUN!!\n",
    "def df_diff_angle_80m(file):\n",
    "    df = df_prep_80m(file)\n",
    "    \n",
    "    df['diff'] = (pd.merge_asof(df['filtered'].dropna().sort_values().reset_index(),\n",
    "                                df[['REF']].dropna().sort_values('REF'),\n",
    "                                left_on='filtered', right_on='REF', direction='nearest')\n",
    "                    .set_index('index')['REF'].rsub(df['filtered'])\n",
    "                  )\n",
    "    \n",
    "    df['angle'] = (df['diff']/0.75)*360\n",
    "    \n",
    "    return df"
   ]
  },
  {
   "cell_type": "markdown",
   "id": "c1fda174",
   "metadata": {},
   "source": [
    "### IOI data"
   ]
  },
  {
   "cell_type": "markdown",
   "id": "53af82b2",
   "metadata": {},
   "source": [
    "Give you data frame with ioi data from all participants."
   ]
  },
  {
   "cell_type": "code",
   "execution_count": 124,
   "id": "9765c7be",
   "metadata": {},
   "outputs": [],
   "source": [
    "#RUN!\n",
    "def get_files_80m(directory):\n",
    "    seznam = []\n",
    "\n",
    "    for dirpath, dirnames, filenames in os.walk(directory): #directory with all folders of participants\n",
    "        for filename in [f for f in filenames if f.endswith(\"80m.csv\")]: #search for all 80m files\n",
    "            seznam.append(os.path.join(dirpath, filename))\n",
    "            \n",
    "    return seznam"
   ]
  },
  {
   "cell_type": "code",
   "execution_count": 125,
   "id": "be335970",
   "metadata": {},
   "outputs": [],
   "source": [
    "#RUN!!\n",
    "def ioi_frame_80m(directory):\n",
    "    \n",
    "    seznam = get_files_80m(directory)\n",
    "    li = []    \n",
    "    \n",
    "    for filename in seznam:\n",
    "        df = ioi_lim_alone_80m(filename)\n",
    "        li.append(df)\n",
    "\n",
    "    frame = pd.concat(li, axis=1, ignore_index=False)\n",
    "    \n",
    "    return frame"
   ]
  },
  {
   "cell_type": "markdown",
   "id": "14ed1f2a",
   "metadata": {},
   "source": [
    "##### Concatenate just IOI data"
   ]
  },
  {
   "cell_type": "markdown",
   "id": "3bc8cf94",
   "metadata": {},
   "source": [
    "### IOI-limits"
   ]
  },
  {
   "cell_type": "markdown",
   "id": "a5896378",
   "metadata": {},
   "source": [
    "Add columns with all values together and calculate M, SD, Q1, Q3, IQR, MAX, MIN."
   ]
  },
  {
   "cell_type": "code",
   "execution_count": 126,
   "id": "b4e65302",
   "metadata": {},
   "outputs": [],
   "source": [
    "#RUN!\n",
    "def list_ioi_calc_80m(directory):\n",
    "    frame = ioi_frame_80m(directory)\n",
    "    frame['combined']= frame.values.tolist()\n",
    "    li = []\n",
    "\n",
    "    for row in frame['combined']:\n",
    "        for vsak in row:\n",
    "            li.append(vsak)\n",
    "\n",
    "    new_array = [x for x in li if math.isnan(x) == False]\n",
    "    se = pd.Series(new_array)\n",
    "    \n",
    "    df_ioi = pd.DataFrame([new_array])\n",
    "    df_ioi = df_ioi.T\n",
    "    df_ioi['all_80m'] = pd.DataFrame(data=se)\n",
    "    df_ioi = df_ioi.iloc[: , 1:]\n",
    "    \n",
    "    return df_ioi"
   ]
  },
  {
   "cell_type": "code",
   "execution_count": 127,
   "id": "1696eaad",
   "metadata": {},
   "outputs": [],
   "source": [
    "#RUN!!\n",
    "def ioi_limits_80m(directory):\n",
    "    frame = ioi_frame_80m(directory)\n",
    "    df_ioi = list_ioi_calc_80m(directory)\n",
    "    \n",
    "    df_ioi['mean'] = [(df_ioi['all_80m'].mean())]+['']*(len(df_ioi)-1)\n",
    "    frame['mean'] = df_ioi['mean']\n",
    "    \n",
    "    df_ioi['std'] = [(df_ioi['all_80m'].std())]+['']*(len(df_ioi)-1)\n",
    "    frame['std'] = df_ioi['std']\n",
    "    \n",
    "    df_ioi['q1'] = [(df_ioi['all_80m'].quantile(.25, interpolation=\"nearest\"))]+['']*(len(df_ioi)-1)\n",
    "    frame['q1'] = df_ioi['q1']\n",
    "    \n",
    "    df_ioi['q3'] = [(df_ioi['all_80m'].quantile(.75, interpolation=\"nearest\"))]+['']*(len(df_ioi)-1)\n",
    "    frame['q3'] = df_ioi['q3']\n",
    "    \n",
    "    df_ioi['IQR'] = [(df_ioi['q3'].iloc[0] - df_ioi['q1'].iloc[0])]+['']*(len(df_ioi)-1)\n",
    "    frame['IQR'] = df_ioi['IQR']\n",
    "    \n",
    "    df_ioi['min'] = [(df_ioi['q1'].iloc[0] - (3*(df_ioi['IQR'].iloc[0])))]+['']*(len(df_ioi)-1)\n",
    "    frame['min'] = df_ioi['min']\n",
    "    \n",
    "    df_ioi['max'] = [(df_ioi['q3'].iloc[0] + (3*(df_ioi['IQR'].iloc[0])))]+['']*(len(df_ioi)-1)\n",
    "    frame['max'] = df_ioi['max']\n",
    "    \n",
    "    return df_ioi.to_excel('df_ioi_80m.xlsx'), frame.to_excel('IOI_filter_80m.xlsx')"
   ]
  },
  {
   "cell_type": "markdown",
   "id": "b5518892",
   "metadata": {},
   "source": [
    "### Circular analysis"
   ]
  },
  {
   "cell_type": "code",
   "execution_count": 128,
   "id": "2b52cf21",
   "metadata": {},
   "outputs": [],
   "source": [
    "#RUN!!\n",
    "def circular_80m(file):\n",
    "    prep = prep_for_r_80m(file)\n",
    "    circ_in_r_80m(prep)"
   ]
  },
  {
   "cell_type": "markdown",
   "id": "99e78785",
   "metadata": {},
   "source": [
    "Create xlsx with angel column to send in R"
   ]
  },
  {
   "cell_type": "code",
   "execution_count": 129,
   "id": "503360e6",
   "metadata": {},
   "outputs": [],
   "source": [
    "#RUN!!\n",
    "def prep_for_r_80m(file):\n",
    "    df = df_diff_angle_80m(file)\n",
    "    name = get_name1(file)\n",
    "\n",
    "    df_a = df.filter(['angle'])\n",
    "        \n",
    "    return df_a.to_excel('angle_80m.xlsx')"
   ]
  },
  {
   "cell_type": "markdown",
   "id": "9ae41154",
   "metadata": {},
   "source": [
    "Call R function and provide calculations, merge them in participant dataframe"
   ]
  },
  {
   "cell_type": "code",
   "execution_count": 130,
   "id": "0c90be23",
   "metadata": {},
   "outputs": [],
   "source": [
    "#RUN!!\n",
    "\n",
    "#Excecute R circular analysis and make xlsx file with measurement\n",
    "\n",
    "def circ_in_r_80m(prep):\n",
    "\n",
    "    robjects.r('''\n",
    "        circ_anal <- function (xlsx_file) {\n",
    "          library(readxl)\n",
    "          library(circular)\n",
    "          library(openxlsx)\n",
    "          library(readr)\n",
    "          library(rlang)\n",
    "\n",
    "          angle_80m <- read_excel(xlsx_file)\n",
    "\n",
    "          angle_80m[1] <- NULL\n",
    "\n",
    "          circ80m <- data.frame(ID = colnames(angle_80m), \n",
    "                               RAY = NA,\n",
    "                               RAYsig = NA,\n",
    "                               MEAN = NA,\n",
    "                               Rho = NA)\n",
    "\n",
    "          for(i in 1:length(circ80m$ID)){\n",
    "            a <- angle_80m[,i]\n",
    "            a_circ <- circular(a, units = \"degrees\", zero = circular(pi/2), rotation = \"clock\")\n",
    "            circ80m$RAY[i] <- rayleigh.test(a_circ)$statistic\n",
    "            circ80m$RAYsig[i] <- rayleigh.test(a_circ)$p.value\n",
    "            circ80m$MEAN[i] <- mean.circular(a_circ, na.rm = TRUE)\n",
    "            circ80m$Rho[i] <- rho.circular(a_circ, na.rm = TRUE)\n",
    "\n",
    "          }\n",
    "\n",
    "\n",
    "          write.xlsx(circ80m,\"C:/Users/Neza/Downloads/tapping/circ80m_stat.xlsx\")\n",
    "\n",
    "        }\n",
    "\n",
    "        circ_anal(\"C:/Users/Neza/Downloads/tapping/angle_80m.xlsx\")\n",
    "    ''')"
   ]
  },
  {
   "cell_type": "markdown",
   "id": "8eb0440b",
   "metadata": {},
   "source": [
    "Read excel with circular data and delete angle_80 and circ80_stat files."
   ]
  },
  {
   "cell_type": "code",
   "execution_count": 131,
   "id": "402f465b",
   "metadata": {},
   "outputs": [],
   "source": [
    "#RUN!!!\n",
    "\n",
    "def final_circ_80m(file):\n",
    "    circular_80m(file)\n",
    "    \n",
    "    df1 = df_diff_angle_80m(file)\n",
    "    df2 = pd.read_excel('circ80m_stat.xlsx')\n",
    "\n",
    "    df = pd.concat([df1, df2], axis = 1)\n",
    "    df = df.drop('ID', axis=1)\n",
    "\n",
    "    os.remove(\"angle_80m.xlsx\")\n",
    "    os.remove(\"circ80m_stat.xlsx\")\n",
    "    \n",
    "    return df"
   ]
  },
  {
   "cell_type": "markdown",
   "id": "8e472727",
   "metadata": {},
   "source": [
    "## Cont MTC"
   ]
  },
  {
   "cell_type": "markdown",
   "id": "cfa028e8",
   "metadata": {},
   "source": [
    "Add abs(DIF) column, calculated both means, add contMTC column."
   ]
  },
  {
   "cell_type": "code",
   "execution_count": 132,
   "id": "3519c2d4",
   "metadata": {},
   "outputs": [],
   "source": [
    "#RUN!!\n",
    "def cont_mtc_80m(file):\n",
    "    df = final_circ_80m(file)\n",
    "    \n",
    "    df['abs_diff'] = df['diff'].abs()\n",
    "    df['m_diff'] = [np.mean(df['diff'])]+['']*(len(df)-1)\n",
    "    df['m_abs'] = [np.mean(df['abs_diff'])]+['']*(len(df)-1)\n",
    "    \n",
    "    first = df.iloc[:,0].tolist()\n",
    "    for i, line in enumerate(first):\n",
    "        if line <= 21:\n",
    "            first[i] = 0\n",
    "    df1 = pd.DataFrame({'contMTC': first})\n",
    "\n",
    "    frames = [df,df1]\n",
    "    df = pd.concat(frames, axis=1)\n",
    "    \n",
    "    return df"
   ]
  },
  {
   "cell_type": "markdown",
   "id": "80e0e784",
   "metadata": {},
   "source": [
    "### Add ioi filter and proceed last calculations"
   ]
  },
  {
   "cell_type": "markdown",
   "id": "75185f1b",
   "metadata": {},
   "source": [
    "Concatenate df_ioi_80 excel with cont_mtc_80."
   ]
  },
  {
   "cell_type": "code",
   "execution_count": 133,
   "id": "9abf29b5",
   "metadata": {},
   "outputs": [],
   "source": [
    "#RUN!!\n",
    "def final_concat_80m(file, directory):\n",
    "    excels = ioi_limits_80m(directory)\n",
    "    \n",
    "    df1 = cont_mtc_80m(file)\n",
    "    df2 = pd.read_excel('df_ioi_80m.xlsx', usecols=lambda x: 'Unnamed' not in x,)\n",
    "    \n",
    "    df2 = df2.drop('all_80m', axis=1)\n",
    "    \n",
    "    frames = [df1, df2]\n",
    "    df = pd.concat(frames, axis=1)\n",
    "    \n",
    "    os.remove(\"df_ioi_80m.xlsx\")\n",
    "    \n",
    "    return df"
   ]
  },
  {
   "cell_type": "markdown",
   "id": "b6029d36",
   "metadata": {},
   "source": [
    "## Cont IOI measures"
   ]
  },
  {
   "cell_type": "markdown",
   "id": "5e5e00dc",
   "metadata": {},
   "source": [
    "From contMTC delete if difference is out of calculated ioi limits."
   ]
  },
  {
   "cell_type": "code",
   "execution_count": 134,
   "id": "dd61ad9c",
   "metadata": {},
   "outputs": [],
   "source": [
    "#RUN!!\n",
    "def pre_ioi_filt_80m(file, directory):\n",
    "    df = final_concat_80m(file, directory)\n",
    "    \n",
    "    df['Difference'] = df['contMTC'].diff()\n",
    "    first = df['Difference'].tolist()\n",
    "    \n",
    "    for i, vrstica in enumerate(first):\n",
    "        if vrstica < (df['min'].iloc[0]) or vrstica > (df['max'].iloc[0]):\n",
    "            first[i] = 0            \n",
    "            \n",
    "    df1 = pd.DataFrame({'preIOI': first})\n",
    "    frames = [df,df1]\n",
    "\n",
    "    df = pd.concat(frames, axis=1)\n",
    "    df = df.drop('Difference', axis = 1)\n",
    "    \n",
    "    col = df['preIOI'].tolist()\n",
    "    st = 0\n",
    "\n",
    "    for i, line in enumerate(col):\n",
    "        if line != 0 and st <= 29:\n",
    "            st += 1\n",
    "        elif line != 0 and st > 29:\n",
    "            col[i] = 0\n",
    "\n",
    "    df1 = pd.DataFrame({'preIOI_29': col})\n",
    "    frames = [df,df1]\n",
    "\n",
    "    df = pd.concat(frames, axis=1)\n",
    "    \n",
    "    return df"
   ]
  },
  {
   "cell_type": "markdown",
   "id": "059e3607",
   "metadata": {},
   "source": [
    "ContIOI calculated: delete smaller than 0.1 and outliers based on quartiles of participant (preIOI quartiles)."
   ]
  },
  {
   "cell_type": "code",
   "execution_count": 135,
   "id": "e47afac9",
   "metadata": {},
   "outputs": [],
   "source": [
    "#RUN!!!\n",
    "\n",
    "def cont_ioi_final_80m(file, directory):\n",
    "    df = pre_ioi_filt_80m(file, directory)\n",
    "    df['contMTC'].replace(to_replace = 0, value = float('NaN'), inplace=True)\n",
    "    df['preIOI'].replace(to_replace = 0, value = float('NaN'), inplace=True)\n",
    "    df['preIOI_29'].replace(to_replace = 0, value = float('NaN'), inplace=True)\n",
    "    \n",
    "    first = df['preIOI_29'].tolist()\n",
    "    \n",
    "    q1 = np.quantile(first, .25)\n",
    "    q3 = np.quantile(first, .75)\n",
    "    iqr = q3 - q1\n",
    "    \n",
    "    for i, vrstica in enumerate(first):\n",
    "        if vrstica < 0.1 or vrstica < (q1 - (3*iqr)) or vrstica > (q3 + (3*iqr)):\n",
    "            first[i] = 0\n",
    "            \n",
    "            \n",
    "    df1 = pd.DataFrame({'contIOI': first})\n",
    "    frames = [df,df1]\n",
    "\n",
    "    df = pd.concat(frames, axis=1)\n",
    "    df['contIOI'].replace(to_replace = 0, value = float('NaN'), inplace=True)\n",
    "    \n",
    "    return df"
   ]
  },
  {
   "cell_type": "markdown",
   "id": "f3dec156",
   "metadata": {},
   "source": [
    "Last measures: avg, std, IOI elemszám, TÖRÖLNI."
   ]
  },
  {
   "cell_type": "code",
   "execution_count": 136,
   "id": "35ba35d5",
   "metadata": {},
   "outputs": [],
   "source": [
    "#RUN!!\n",
    "#Change get_name in final version!\n",
    "\n",
    "def all_calc_80m(file, directory):\n",
    "    df = cont_ioi_final_80m(file, directory)\n",
    "    name = get_name1(file)\n",
    "    \n",
    "    df['mIOIcont'] = [df['contIOI'].mean()]+['']*(len(df)-1)\n",
    "    df['CVcont'] = [(df['contIOI'].std())/(df['mIOIcont'].iloc[0])]+['']*(len(df)-1)\n",
    "    \n",
    "    df['IOIelemszam'] = [((df['contIOI'] != 0).sum())]+['']*(len(df)-1)\n",
    "    #df['torolni'] = [(df['IOIelemszam'].iloc[0]) - 29]+['']*(len(df)-1)\n",
    "    \n",
    "    #df.to_excel(name+\".xlsx\",\n",
    "     #        sheet_name='80m') #later put in the function with all dataframes, all tempos\n",
    "    \n",
    "    return df"
   ]
  },
  {
   "cell_type": "markdown",
   "id": "aaa05d7c",
   "metadata": {},
   "source": [
    "# 120"
   ]
  },
  {
   "cell_type": "markdown",
   "id": "c5de8f6e",
   "metadata": {},
   "source": [
    "### IOI limits calculation"
   ]
  },
  {
   "cell_type": "markdown",
   "id": "6396bb70",
   "metadata": {},
   "source": [
    "##### Output just ioi data - for concatenate in IOI"
   ]
  },
  {
   "cell_type": "code",
   "execution_count": 137,
   "id": "60ed5b9b",
   "metadata": {},
   "outputs": [],
   "source": [
    "#RUN\n",
    "def ioi_lim_alone_120(file):\n",
    "    df = read_edit_csv3(file)\n",
    "    name = get_name1(file)\n",
    "    \n",
    "    df['Difference'] = df.diff()\n",
    "    first = df.iloc[:,0].tolist()\n",
    "    second = df.iloc[:,1].tolist()\n",
    "\n",
    "    for vrstica1 in first:\n",
    "        for i, vrstica2 in enumerate(second):\n",
    "            if vrstica2 == vrstica1 or vrstica2 < 0.1:\n",
    "                vrstica2 = float('NaN')\n",
    "                second[i] = vrstica2\n",
    "            \n",
    "    df1 = pd.DataFrame({'ioi':second})\n",
    "    frames = [df,df1]\n",
    "\n",
    "    df = pd.concat(frames, axis=1)\n",
    "    df = df.drop('Difference', axis = 1)\n",
    "    df = df.rename(columns={\"ioi\": name})\n",
    "    df = df.iloc[: , 1:]\n",
    "    return df"
   ]
  },
  {
   "cell_type": "markdown",
   "id": "e6bd2995",
   "metadata": {},
   "source": [
    "Add to raw data clean (1.75<x<28)"
   ]
  },
  {
   "cell_type": "code",
   "execution_count": 138,
   "id": "fd0487b0",
   "metadata": {},
   "outputs": [],
   "source": [
    "#RUN!\n",
    "def ioi_lim_clean_120(file):\n",
    "    df = read_edit_csv3(file)\n",
    "    \n",
    "    first = df.iloc[:,0].tolist()\n",
    "    for i, line in enumerate(first):\n",
    "        if line < 1.75 or line > 28:\n",
    "            first[i] = 0\n",
    "    df1 = pd.DataFrame({'clean': first})\n",
    "    \n",
    "    frames = [df,df1]\n",
    "    df = pd.concat(frames, axis=1)\n",
    "\n",
    "    return df"
   ]
  },
  {
   "cell_type": "markdown",
   "id": "0b0df5b8",
   "metadata": {},
   "source": [
    "#### Outlier filtering "
   ]
  },
  {
   "cell_type": "markdown",
   "id": "4ecdcbba",
   "metadata": {},
   "source": [
    "##### Delete first 10 valid taps"
   ]
  },
  {
   "cell_type": "markdown",
   "id": "8d4c4cfa",
   "metadata": {},
   "source": [
    "After filtering, the first 10 valid taps are deleted from the beginning of each trial)"
   ]
  },
  {
   "cell_type": "code",
   "execution_count": 139,
   "id": "51460496",
   "metadata": {},
   "outputs": [],
   "source": [
    "#RUN!\n",
    "def ioi_lim_filt10_120(file):\n",
    "    df = ioi_lim_clean_120(file)\n",
    "    \n",
    "    df['diff'] = df['clean'].diff()\n",
    "    first = df.iloc[:,1].tolist()\n",
    "    second = df.iloc[:,2].tolist()\n",
    "    \n",
    "    delete = 0\n",
    "    for vrstica1 in first:\n",
    "        for i, vrstica2 in enumerate(second):\n",
    "            if vrstica2 == vrstica1 or vrstica2 < 0.1:\n",
    "                second[i] = 0\n",
    "            elif vrstica2 != 0 and delete < 10:\n",
    "                second[i] = 0\n",
    "                delete += 1\n",
    "    \n",
    "                           \n",
    "    df1 = pd.DataFrame({'filter10':second})\n",
    "    frames = [df,df1]\n",
    "\n",
    "    df = pd.concat(frames, axis=1)\n",
    "\n",
    "    return df"
   ]
  },
  {
   "cell_type": "markdown",
   "id": "3a5b1e98",
   "metadata": {},
   "source": [
    "Function for clean, filter and delete first 10 valid taps"
   ]
  },
  {
   "cell_type": "code",
   "execution_count": 140,
   "id": "df6d97f5",
   "metadata": {},
   "outputs": [],
   "source": [
    "#RUN!!\n",
    "def ioi_lim_clean10_120(file):\n",
    "    df = ioi_lim_filt10_120(file)\n",
    "       \n",
    "    \n",
    "    df['filtered'] = np.where(df['filter10'] == 0,\n",
    "                             df['filter10'], df['clean'])\n",
    "    \n",
    "    df['filtered'].replace(to_replace = 0, value = float('NaN'), inplace=True)\n",
    "\n",
    "    return df #return data frame with columns: input track, clean, diff, filter10, filtered"
   ]
  },
  {
   "cell_type": "markdown",
   "id": "35a06dd2",
   "metadata": {},
   "source": [
    "### Calculations"
   ]
  },
  {
   "cell_type": "markdown",
   "id": "e5811aeb",
   "metadata": {},
   "source": [
    "Add REF column to the data frame"
   ]
  },
  {
   "cell_type": "code",
   "execution_count": 181,
   "id": "834b0ad3",
   "metadata": {},
   "outputs": [],
   "source": [
    "#RUN!!\n",
    "def df_prep_120(file):\n",
    "    df = ioi_lim_clean10_120(file)\n",
    "    df = df.drop(['clean', 'diff', 'filter10'], axis=1)\n",
    "    \n",
    "    s = [0]\n",
    "    x = 0\n",
    "    while x < 28:\n",
    "        x += 0.5\n",
    "        s.append(x)\n",
    "\n",
    "    df['REF'] = pd.Series(s)\n",
    "\n",
    "    return df"
   ]
  },
  {
   "cell_type": "markdown",
   "id": "44f28ec9",
   "metadata": {},
   "source": [
    "Diff, nearest values"
   ]
  },
  {
   "cell_type": "code",
   "execution_count": 142,
   "id": "741bd259",
   "metadata": {},
   "outputs": [],
   "source": [
    "#RUN!!\n",
    "def df_diff_angle_120(file):\n",
    "    df = df_prep_120(file)\n",
    "    \n",
    "    df['diff'] = (pd.merge_asof(df['filtered'].dropna().sort_values().reset_index(),\n",
    "                                df[['REF']].dropna().sort_values('REF'),\n",
    "                                left_on='filtered', right_on='REF', direction='nearest')\n",
    "                    .set_index('index')['REF'].rsub(df['filtered'])\n",
    "                  )\n",
    "    \n",
    "    df['angle'] = (df['diff']/0.5)*360\n",
    "    \n",
    "    return df"
   ]
  },
  {
   "cell_type": "markdown",
   "id": "95a4a00b",
   "metadata": {},
   "source": [
    "### IOI data"
   ]
  },
  {
   "cell_type": "markdown",
   "id": "771ad2db",
   "metadata": {},
   "source": [
    "Give you data frame with ioi data from all participants."
   ]
  },
  {
   "cell_type": "code",
   "execution_count": 143,
   "id": "41709f35",
   "metadata": {},
   "outputs": [],
   "source": [
    "#RUN!\n",
    "def get_files_120(directory):\n",
    "    seznam = []\n",
    "\n",
    "    for dirpath, dirnames, filenames in os.walk(directory): #directory with all folders of participants\n",
    "        for filename in [f for f in filenames if f.endswith(\"120.csv\")]: #search for all 80 files\n",
    "            seznam.append(os.path.join(dirpath, filename))\n",
    "            \n",
    "    return seznam"
   ]
  },
  {
   "cell_type": "code",
   "execution_count": 144,
   "id": "8b5fb8c1",
   "metadata": {},
   "outputs": [],
   "source": [
    "#RUN!!\n",
    "def ioi_frame_120(directory):\n",
    "    \n",
    "    seznam = get_files_120(directory)\n",
    "    li = []    \n",
    "    \n",
    "    for filename in seznam:\n",
    "        df = ioi_lim_alone_120(filename)\n",
    "        li.append(df)\n",
    "\n",
    "    frame = pd.concat(li, axis=1, ignore_index=False)\n",
    "    \n",
    "    return frame"
   ]
  },
  {
   "cell_type": "markdown",
   "id": "f95d2b60",
   "metadata": {},
   "source": [
    "##### Concatenate just IOI data"
   ]
  },
  {
   "cell_type": "markdown",
   "id": "f16538f1",
   "metadata": {},
   "source": [
    "### IOI-limits"
   ]
  },
  {
   "cell_type": "markdown",
   "id": "d60332ac",
   "metadata": {},
   "source": [
    "Add columns with all values together and calculate M, SD, Q1, Q3, IQR, MAX, MIN."
   ]
  },
  {
   "cell_type": "code",
   "execution_count": 145,
   "id": "10b689be",
   "metadata": {},
   "outputs": [],
   "source": [
    "#RUN!\n",
    "def list_ioi_calc_120(directory):\n",
    "    frame = ioi_frame_120(directory)\n",
    "    frame['combined']= frame.values.tolist()\n",
    "    li = []\n",
    "\n",
    "    for row in frame['combined']:\n",
    "        for vsak in row:\n",
    "            li.append(vsak)\n",
    "\n",
    "    new_array = [x for x in li if math.isnan(x) == False]\n",
    "    se = pd.Series(new_array)\n",
    "    \n",
    "    df_ioi = pd.DataFrame([new_array])\n",
    "    df_ioi = df_ioi.T\n",
    "    df_ioi['all_120'] = pd.DataFrame(data=se)\n",
    "    df_ioi = df_ioi.iloc[: , 1:]\n",
    "    \n",
    "    return df_ioi"
   ]
  },
  {
   "cell_type": "code",
   "execution_count": 146,
   "id": "e7153100",
   "metadata": {},
   "outputs": [],
   "source": [
    "#RUN!!\n",
    "def ioi_limits_120(directory):\n",
    "    frame = ioi_frame_120(directory)\n",
    "    df_ioi = list_ioi_calc_120(directory)\n",
    "    \n",
    "    df_ioi['mean'] = [(df_ioi['all_120'].mean())]+['']*(len(df_ioi)-1)\n",
    "    frame['mean'] = df_ioi['mean']\n",
    "    \n",
    "    df_ioi['std'] = [(df_ioi['all_120'].std())]+['']*(len(df_ioi)-1)\n",
    "    frame['std'] = df_ioi['std']\n",
    "    \n",
    "    df_ioi['q1'] = [(df_ioi['all_120'].quantile(.25, interpolation=\"nearest\"))]+['']*(len(df_ioi)-1)\n",
    "    frame['q1'] = df_ioi['q1']\n",
    "    \n",
    "    df_ioi['q3'] = [(df_ioi['all_120'].quantile(.75, interpolation=\"nearest\"))]+['']*(len(df_ioi)-1)\n",
    "    frame['q3'] = df_ioi['q3']\n",
    "    \n",
    "    df_ioi['IQR'] = [(df_ioi['q3'].iloc[0] - df_ioi['q1'].iloc[0])]+['']*(len(df_ioi)-1)\n",
    "    frame['IQR'] = df_ioi['IQR']\n",
    "    \n",
    "    df_ioi['min'] = [(df_ioi['q1'].iloc[0] - (3*(df_ioi['IQR'].iloc[0])))]+['']*(len(df_ioi)-1)\n",
    "    frame['min'] = df_ioi['min']\n",
    "    \n",
    "    df_ioi['max'] = [(df_ioi['q3'].iloc[0] + (3*(df_ioi['IQR'].iloc[0])))]+['']*(len(df_ioi)-1)\n",
    "    frame['max'] = df_ioi['max']\n",
    "    \n",
    "    return df_ioi.to_excel('df_ioi_120.xlsx'), frame.to_excel('IOI_filter_120.xlsx')"
   ]
  },
  {
   "cell_type": "markdown",
   "id": "b82293a7",
   "metadata": {},
   "source": [
    "### Circular analysis"
   ]
  },
  {
   "cell_type": "code",
   "execution_count": 147,
   "id": "9598f250",
   "metadata": {},
   "outputs": [],
   "source": [
    "#RUN!!\n",
    "def circular_120(file):\n",
    "    prep = prep_for_r_120(file)\n",
    "    circ_in_r_120(prep)"
   ]
  },
  {
   "cell_type": "markdown",
   "id": "3408a174",
   "metadata": {},
   "source": [
    "Create xlsx with angel column to send in R"
   ]
  },
  {
   "cell_type": "code",
   "execution_count": 148,
   "id": "66d51c9e",
   "metadata": {},
   "outputs": [],
   "source": [
    "#RUN!!\n",
    "def prep_for_r_120(file):\n",
    "    df = df_diff_angle_120(file)\n",
    "    name = get_name1(file)\n",
    "\n",
    "    df_a = df.filter(['angle'])\n",
    "        \n",
    "    return df_a.to_excel('angle_120.xlsx')"
   ]
  },
  {
   "cell_type": "markdown",
   "id": "b86d4c73",
   "metadata": {},
   "source": [
    "Call R function and provide calculations, merge them in participant dataframe"
   ]
  },
  {
   "cell_type": "code",
   "execution_count": 149,
   "id": "7853ae1e",
   "metadata": {},
   "outputs": [],
   "source": [
    "#RUN!!\n",
    "\n",
    "#Excecute R circular analysis and make xlsx file with measurement\n",
    "#Change to right path, where should be excel files made\n",
    "\n",
    "def circ_in_r_120(prep):\n",
    "\n",
    "    robjects.r('''\n",
    "        circ_anal <- function (xlsx_file) {\n",
    "          library(readxl)\n",
    "          library(circular)\n",
    "          library(openxlsx)\n",
    "          library(readr)\n",
    "          library(rlang)\n",
    "\n",
    "          angle_120 <- read_excel(xlsx_file)\n",
    "\n",
    "          angle_120[1] <- NULL\n",
    "\n",
    "          circ120 <- data.frame(ID = colnames(angle_120), \n",
    "                               RAY = NA,\n",
    "                               RAYsig = NA,\n",
    "                               MEAN = NA,\n",
    "                               Rho = NA)\n",
    "\n",
    "          for(i in 1:length(circ120$ID)){\n",
    "            a <- angle_120[,i]\n",
    "            a_circ <- circular(a, units = \"degrees\", zero = circular(pi/2), rotation = \"clock\")\n",
    "            circ120$RAY[i] <- rayleigh.test(a_circ)$statistic\n",
    "            circ120$RAYsig[i] <- rayleigh.test(a_circ)$p.value\n",
    "            circ120$MEAN[i] <- mean.circular(a_circ, na.rm = TRUE)\n",
    "            circ120$Rho[i] <- rho.circular(a_circ, na.rm = TRUE)\n",
    "\n",
    "          }\n",
    "\n",
    "\n",
    "          write.xlsx(circ120,\"C:/Users/Neza/Downloads/tapping/circ120_stat.xlsx\")\n",
    "\n",
    "        }\n",
    "\n",
    "        circ_anal(\"C:/Users/Neza/Downloads/tapping/angle_120.xlsx\")\n",
    "    ''')"
   ]
  },
  {
   "cell_type": "markdown",
   "id": "d9821ce6",
   "metadata": {},
   "source": [
    "Read excel with circular data and delete angle_80 and circ80_stat files."
   ]
  },
  {
   "cell_type": "code",
   "execution_count": 150,
   "id": "0a8a95ee",
   "metadata": {},
   "outputs": [],
   "source": [
    "#RUN!!!\n",
    "\n",
    "def final_circ_120(file):\n",
    "    circular_120(file)\n",
    "    \n",
    "    df1 = df_diff_angle_120(file)\n",
    "    df2 = pd.read_excel('circ120_stat.xlsx')\n",
    "\n",
    "    df = pd.concat([df1, df2], axis = 1)\n",
    "    df = df.drop('ID', axis=1)\n",
    "\n",
    "    os.remove(\"angle_120.xlsx\")\n",
    "    os.remove(\"circ120_stat.xlsx\")\n",
    "    \n",
    "    return df"
   ]
  },
  {
   "cell_type": "markdown",
   "id": "7f520315",
   "metadata": {},
   "source": [
    "## Cont MTC"
   ]
  },
  {
   "cell_type": "markdown",
   "id": "a6be7b32",
   "metadata": {},
   "source": [
    "Add abs(DIF) column, calculated both means, add contMTC column."
   ]
  },
  {
   "cell_type": "code",
   "execution_count": 151,
   "id": "0d901899",
   "metadata": {},
   "outputs": [],
   "source": [
    "#RUN!!\n",
    "def cont_mtc_120(file):\n",
    "    df = final_circ_120(file)\n",
    "    \n",
    "    df['abs_diff'] = df['diff'].abs()\n",
    "    df['m_diff'] = [np.mean(df['diff'])]+['']*(len(df)-1)\n",
    "    df['m_abs'] = [np.mean(df['abs_diff'])]+['']*(len(df)-1)\n",
    "    \n",
    "    first = df.iloc[:,0].tolist()\n",
    "    for i, line in enumerate(first):\n",
    "        if line <= 28:\n",
    "            first[i] = 0\n",
    "    df1 = pd.DataFrame({'contMTC': first})\n",
    "\n",
    "    frames = [df,df1]\n",
    "    df = pd.concat(frames, axis=1)\n",
    "    \n",
    "    return df"
   ]
  },
  {
   "cell_type": "markdown",
   "id": "35d3e2d9",
   "metadata": {},
   "source": [
    "### Add ioi filter and proceed last calculations"
   ]
  },
  {
   "cell_type": "code",
   "execution_count": 152,
   "id": "196a909d",
   "metadata": {},
   "outputs": [],
   "source": [
    "#RUN!!\n",
    "def final_concat_120(file, directory):\n",
    "    excels = ioi_limits_120(directory)\n",
    "    \n",
    "    df1 = cont_mtc_120(file)\n",
    "    df2 = pd.read_excel('df_ioi_120.xlsx', usecols=lambda x: 'Unnamed' not in x,)\n",
    "    \n",
    "    df2 = df2.drop('all_120', axis=1)\n",
    "    \n",
    "    frames = [df1, df2]\n",
    "    df = pd.concat(frames, axis=1)\n",
    "    \n",
    "    os.remove(\"df_ioi_120.xlsx\")\n",
    "    \n",
    "    return df"
   ]
  },
  {
   "cell_type": "markdown",
   "id": "e5469611",
   "metadata": {},
   "source": [
    "## Cont IOI measures"
   ]
  },
  {
   "cell_type": "markdown",
   "id": "2f35d305",
   "metadata": {},
   "source": [
    "From contMTC delete if difference is out of calculated ioi limits."
   ]
  },
  {
   "cell_type": "code",
   "execution_count": 153,
   "id": "c189dd2a",
   "metadata": {},
   "outputs": [],
   "source": [
    "#RUN!!\n",
    "def pre_ioi_filt_120(file, directory):\n",
    "    df = final_concat_120(file, directory)\n",
    "    \n",
    "    df['Difference'] = df['contMTC'].diff()\n",
    "    first = df['Difference'].tolist()\n",
    "    \n",
    "    for i, vrstica in enumerate(first):\n",
    "        if vrstica < (df['min'].iloc[0]) or vrstica > (df['max'].iloc[0]):\n",
    "            first[i] = 0            \n",
    "            \n",
    "    df1 = pd.DataFrame({'preIOI': first})\n",
    "    frames = [df,df1]\n",
    "\n",
    "    df = pd.concat(frames, axis=1)\n",
    "    df = df.drop('Difference', axis = 1)\n",
    "    \n",
    "    col = df['preIOI'].tolist()\n",
    "    st = 0\n",
    "\n",
    "    for i, line in enumerate(col):\n",
    "        if line != 0 and st <= 29:\n",
    "            st += 1\n",
    "        elif line != 0 and st > 29:\n",
    "            col[i] = 0\n",
    "\n",
    "    df1 = pd.DataFrame({'preIOI_29': col})\n",
    "    frames = [df,df1]\n",
    "\n",
    "    df = pd.concat(frames, axis=1)\n",
    "    \n",
    "    return df"
   ]
  },
  {
   "cell_type": "markdown",
   "id": "8b736b45",
   "metadata": {},
   "source": [
    "ContIOI calculated: delete smaller than 0.1 and outliers based on quartiles of participant (preIOI quartiles)."
   ]
  },
  {
   "cell_type": "code",
   "execution_count": 154,
   "id": "b99594ac",
   "metadata": {},
   "outputs": [],
   "source": [
    "#RUN!!!\n",
    "\n",
    "def cont_ioi_final_120(file, directory):\n",
    "    df = pre_ioi_filt_120(file, directory)\n",
    "    df['contMTC'].replace(to_replace = 0, value = float('NaN'), inplace=True)\n",
    "    df['preIOI'].replace(to_replace = 0, value = float('NaN'), inplace=True)\n",
    "    df['preIOI_29'].replace(to_replace = 0, value = float('NaN'), inplace=True)\n",
    "    \n",
    "    first = df['preIOI_29'].tolist()\n",
    "    \n",
    "    q1 = np.quantile(first, .25)\n",
    "    q3 = np.quantile(first, .75)\n",
    "    iqr = q3 - q1\n",
    "    \n",
    "    for i, vrstica in enumerate(first):\n",
    "        if vrstica < 0.1 or vrstica < (q1 - (3*iqr)) or vrstica > (q3 + (3*iqr)):\n",
    "            first[i] = 0\n",
    "            \n",
    "            \n",
    "    df1 = pd.DataFrame({'contIOI': first})\n",
    "    frames = [df,df1]\n",
    "\n",
    "    df = pd.concat(frames, axis=1)\n",
    "    df['contIOI'].replace(to_replace = 0, value = float('NaN'), inplace=True)\n",
    "    \n",
    "    return df"
   ]
  },
  {
   "cell_type": "markdown",
   "id": "54a1ec91",
   "metadata": {},
   "source": [
    "Last measures: avg, std, IOI elemszám, TÖRÖLNI."
   ]
  },
  {
   "cell_type": "code",
   "execution_count": 155,
   "id": "2b066f47",
   "metadata": {},
   "outputs": [],
   "source": [
    "#RUN!!\n",
    "#Change get_name in final version!\n",
    "\n",
    "def all_calc_120(file, directory):\n",
    "    df = cont_ioi_final_120(file, directory)\n",
    "    #name = get_name1(file)\n",
    "    \n",
    "    df['mIOIcont'] = [df['contIOI'].mean()]+['']*(len(df)-1)\n",
    "    df['CVcont'] = [(df['contIOI'].std())/(df['mIOIcont'].iloc[0])]+['']*(len(df)-1)\n",
    "    \n",
    "    df['IOIelemszam'] = [((df['contIOI'] != 0).sum())]+['']*(len(df)-1)\n",
    "    \n",
    "    return df"
   ]
  },
  {
   "cell_type": "markdown",
   "id": "8b86469b",
   "metadata": {},
   "source": [
    "# 120m - Functions on one sheet"
   ]
  },
  {
   "cell_type": "markdown",
   "id": "f7c66e3d",
   "metadata": {},
   "source": [
    "Everything same as in 120, just on metronome, all calculations are same."
   ]
  },
  {
   "cell_type": "markdown",
   "id": "34e3748b",
   "metadata": {},
   "source": [
    "### IOI limits calculation"
   ]
  },
  {
   "cell_type": "markdown",
   "id": "05d37ae8",
   "metadata": {},
   "source": [
    "##### Output just ioi data - for concatenate in IOI"
   ]
  },
  {
   "cell_type": "code",
   "execution_count": 156,
   "id": "1d1a5be1",
   "metadata": {},
   "outputs": [],
   "source": [
    "#RUN\n",
    "def ioi_lim_alone_120m(file):\n",
    "    df = read_edit_csv3(file)\n",
    "    name = get_name2(file)\n",
    "    \n",
    "    df['Difference'] = df.diff()\n",
    "    first = df.iloc[:,0].tolist()\n",
    "    second = df.iloc[:,1].tolist()\n",
    "\n",
    "    for vrstica1 in first:\n",
    "        for i, vrstica2 in enumerate(second):\n",
    "            if vrstica2 == vrstica1 or vrstica2 < 0.1:\n",
    "                vrstica2 = float('NaN')\n",
    "                second[i] = vrstica2\n",
    "            \n",
    "    df1 = pd.DataFrame({'ioi':second})\n",
    "    frames = [df,df1]\n",
    "\n",
    "    df = pd.concat(frames, axis=1)\n",
    "    df = df.drop('Difference', axis = 1)\n",
    "    df = df.rename(columns={\"ioi\": name})\n",
    "    df = df.iloc[: , 1:]\n",
    "    return df"
   ]
  },
  {
   "cell_type": "markdown",
   "id": "45270f73",
   "metadata": {},
   "source": [
    "Add to raw data clean (1.75<x<28)"
   ]
  },
  {
   "cell_type": "code",
   "execution_count": 157,
   "id": "b5b1611d",
   "metadata": {},
   "outputs": [],
   "source": [
    "#RUN!\n",
    "def ioi_lim_clean_120m(file):\n",
    "    df = read_edit_csv3(file)\n",
    "    \n",
    "    first = df.iloc[:,0].tolist()\n",
    "    for i, line in enumerate(first):\n",
    "        if line < 1.7 or line > 28:\n",
    "            first[i] = 0\n",
    "    df1 = pd.DataFrame({'clean': first})\n",
    "    \n",
    "    frames = [df,df1]\n",
    "    df = pd.concat(frames, axis=1)\n",
    "\n",
    "    return df"
   ]
  },
  {
   "cell_type": "markdown",
   "id": "0bf2b97b",
   "metadata": {},
   "source": [
    "#### Outlier filtering "
   ]
  },
  {
   "cell_type": "markdown",
   "id": "7744268d",
   "metadata": {},
   "source": [
    "##### Delete first 10 valid taps"
   ]
  },
  {
   "cell_type": "markdown",
   "id": "08ef0730",
   "metadata": {},
   "source": [
    "After filtering, the first 10 valid taps are deleted from the beginning of each trial)"
   ]
  },
  {
   "cell_type": "code",
   "execution_count": 158,
   "id": "841c6a74",
   "metadata": {},
   "outputs": [],
   "source": [
    "#RUN!\n",
    "def ioi_lim_filt10_120m(file):\n",
    "    df = ioi_lim_clean_120m(file)\n",
    "    \n",
    "    df['diff'] = df['clean'].diff()\n",
    "    first = df.iloc[:,1].tolist()\n",
    "    second = df.iloc[:,2].tolist()\n",
    "    \n",
    "    delete = 0\n",
    "    for vrstica1 in first:\n",
    "        for i, vrstica2 in enumerate(second):\n",
    "            if vrstica2 == vrstica1 or vrstica2 < 0.1:\n",
    "                second[i] = 0\n",
    "            elif vrstica2 != 0 and delete < 10:\n",
    "                second[i] = 0\n",
    "                delete += 1\n",
    "    \n",
    "                           \n",
    "    df1 = pd.DataFrame({'filter10':second})\n",
    "    frames = [df,df1]\n",
    "\n",
    "    df = pd.concat(frames, axis=1)\n",
    "\n",
    "    return df"
   ]
  },
  {
   "cell_type": "markdown",
   "id": "3f8b5489",
   "metadata": {},
   "source": [
    "Function for clean, filter and delete first 10 valid taps"
   ]
  },
  {
   "cell_type": "code",
   "execution_count": 159,
   "id": "2d58075d",
   "metadata": {},
   "outputs": [],
   "source": [
    "#RUN!!\n",
    "def ioi_lim_clean10_120m(file):\n",
    "    df = ioi_lim_filt10_120m(file)\n",
    "       \n",
    "    \n",
    "    df['filtered'] = np.where(df['filter10'] == 0,\n",
    "                             df['filter10'], df['clean'])\n",
    "    \n",
    "    df['filtered'].replace(to_replace = 0, value = float('NaN'), inplace=True)\n",
    "\n",
    "    return df #return data frame with columns: input track, clean, diff, filter10, filtered"
   ]
  },
  {
   "cell_type": "markdown",
   "id": "701b1c7e",
   "metadata": {},
   "source": [
    "### Calculations"
   ]
  },
  {
   "cell_type": "markdown",
   "id": "6437b634",
   "metadata": {},
   "source": [
    "Add REF column to the data frame"
   ]
  },
  {
   "cell_type": "code",
   "execution_count": 182,
   "id": "43338a24",
   "metadata": {},
   "outputs": [],
   "source": [
    "#RUN!!\n",
    "def df_prep_120m(file):\n",
    "    df = ioi_lim_clean10_120m(file)\n",
    "    df = df.drop(['clean', 'diff', 'filter10'], axis=1)\n",
    "    \n",
    "    s = [0]\n",
    "    x = 0\n",
    "    while x < 28:\n",
    "        x += 0.5\n",
    "        s.append(x)\n",
    "\n",
    "    df['REF'] = pd.Series(s)\n",
    "\n",
    "    return df"
   ]
  },
  {
   "cell_type": "markdown",
   "id": "3ca842f1",
   "metadata": {},
   "source": [
    "Diff, nearest values"
   ]
  },
  {
   "cell_type": "code",
   "execution_count": 161,
   "id": "03e55b4f",
   "metadata": {},
   "outputs": [],
   "source": [
    "#RUN!!\n",
    "def df_diff_angle_120m(file):\n",
    "    df = df_prep_120m(file)\n",
    "    \n",
    "    df['diff'] = (pd.merge_asof(df['filtered'].dropna().sort_values().reset_index(),\n",
    "                                df[['REF']].dropna().sort_values('REF'),\n",
    "                                left_on='filtered', right_on='REF', direction='nearest')\n",
    "                    .set_index('index')['REF'].rsub(df['filtered'])\n",
    "                  )\n",
    "    \n",
    "    df['angle'] = (df['diff']/0.5)*360\n",
    "    \n",
    "    return df"
   ]
  },
  {
   "cell_type": "markdown",
   "id": "a1e291d6",
   "metadata": {},
   "source": [
    "### IOI data"
   ]
  },
  {
   "cell_type": "markdown",
   "id": "07852877",
   "metadata": {},
   "source": [
    "Give you data frame with ioi data from all participants."
   ]
  },
  {
   "cell_type": "code",
   "execution_count": 162,
   "id": "3530a799",
   "metadata": {},
   "outputs": [],
   "source": [
    "#RUN!\n",
    "def get_files_120m(directory):\n",
    "    seznam = []\n",
    "\n",
    "    for dirpath, dirnames, filenames in os.walk(directory): #directory with all folders of participants\n",
    "        for filename in [f for f in filenames if f.endswith(\"120m.csv\")]: #search for all 120m files\n",
    "            seznam.append(os.path.join(dirpath, filename))\n",
    "            \n",
    "    return seznam"
   ]
  },
  {
   "cell_type": "code",
   "execution_count": 163,
   "id": "466defed",
   "metadata": {},
   "outputs": [],
   "source": [
    "#RUN!!\n",
    "def ioi_frame_120m(directory):\n",
    "    \n",
    "    seznam = get_files_120m(directory)\n",
    "    li = []    \n",
    "    \n",
    "    for filename in seznam:\n",
    "        df = ioi_lim_alone_120m(filename)\n",
    "        li.append(df)\n",
    "\n",
    "    frame = pd.concat(li, axis=1, ignore_index=False)\n",
    "    \n",
    "    return frame"
   ]
  },
  {
   "cell_type": "markdown",
   "id": "50a76271",
   "metadata": {},
   "source": [
    "##### Concatenate just IOI data"
   ]
  },
  {
   "cell_type": "markdown",
   "id": "f79f2842",
   "metadata": {},
   "source": [
    "### IOI-limits"
   ]
  },
  {
   "cell_type": "markdown",
   "id": "eb2c3bd8",
   "metadata": {},
   "source": [
    "Add columns with all values together and calculate M, SD, Q1, Q3, IQR, MAX, MIN."
   ]
  },
  {
   "cell_type": "code",
   "execution_count": 164,
   "id": "45c983c0",
   "metadata": {},
   "outputs": [],
   "source": [
    "#RUN!\n",
    "def list_ioi_calc_120m(directory):\n",
    "    frame = ioi_frame_120m(directory)\n",
    "    frame['combined']= frame.values.tolist()\n",
    "    li = []\n",
    "\n",
    "    for row in frame['combined']:\n",
    "        for vsak in row:\n",
    "            li.append(vsak)\n",
    "\n",
    "    new_array = [x for x in li if math.isnan(x) == False]\n",
    "    se = pd.Series(new_array)\n",
    "    \n",
    "    df_ioi = pd.DataFrame([new_array])\n",
    "    df_ioi = df_ioi.T\n",
    "    df_ioi['all_120m'] = pd.DataFrame(data=se)\n",
    "    df_ioi = df_ioi.iloc[: , 1:]\n",
    "    \n",
    "    return df_ioi"
   ]
  },
  {
   "cell_type": "code",
   "execution_count": 165,
   "id": "e7935a2e",
   "metadata": {},
   "outputs": [],
   "source": [
    "#RUN!!\n",
    "def ioi_limits_120m(directory):\n",
    "    frame = ioi_frame_120m(directory)\n",
    "    df_ioi = list_ioi_calc_120m(directory)\n",
    "    \n",
    "    df_ioi['mean'] = [(df_ioi['all_120m'].mean())]+['']*(len(df_ioi)-1)\n",
    "    frame['mean'] = df_ioi['mean']\n",
    "    \n",
    "    df_ioi['std'] = [(df_ioi['all_120m'].std())]+['']*(len(df_ioi)-1)\n",
    "    frame['std'] = df_ioi['std']\n",
    "    \n",
    "    df_ioi['q1'] = [(df_ioi['all_120m'].quantile(.25, interpolation=\"nearest\"))]+['']*(len(df_ioi)-1)\n",
    "    frame['q1'] = df_ioi['q1']\n",
    "    \n",
    "    df_ioi['q3'] = [(df_ioi['all_120m'].quantile(.75, interpolation=\"nearest\"))]+['']*(len(df_ioi)-1)\n",
    "    frame['q3'] = df_ioi['q3']\n",
    "    \n",
    "    df_ioi['IQR'] = [(df_ioi['q3'].iloc[0] - df_ioi['q1'].iloc[0])]+['']*(len(df_ioi)-1)\n",
    "    frame['IQR'] = df_ioi['IQR']\n",
    "    \n",
    "    df_ioi['min'] = [(df_ioi['q1'].iloc[0] - (3*(df_ioi['IQR'].iloc[0])))]+['']*(len(df_ioi)-1)\n",
    "    frame['min'] = df_ioi['min']\n",
    "    \n",
    "    df_ioi['max'] = [(df_ioi['q3'].iloc[0] + (3*(df_ioi['IQR'].iloc[0])))]+['']*(len(df_ioi)-1)\n",
    "    frame['max'] = df_ioi['max']\n",
    "    \n",
    "    return df_ioi.to_excel('df_ioi_120m.xlsx'), frame.to_excel('IOI_filter_120m.xlsx')"
   ]
  },
  {
   "cell_type": "markdown",
   "id": "6c45cdc7",
   "metadata": {},
   "source": [
    "### Circular analysis"
   ]
  },
  {
   "cell_type": "code",
   "execution_count": 166,
   "id": "596cc5db",
   "metadata": {},
   "outputs": [],
   "source": [
    "#RUN!!\n",
    "def circular_120m(file):\n",
    "    prep = prep_for_r_120m(file)\n",
    "    circ_in_r_120m(prep)"
   ]
  },
  {
   "cell_type": "markdown",
   "id": "5620e976",
   "metadata": {},
   "source": [
    "Create xlsx with angel column to send in R"
   ]
  },
  {
   "cell_type": "code",
   "execution_count": 167,
   "id": "871c9a3e",
   "metadata": {},
   "outputs": [],
   "source": [
    "#RUN!!\n",
    "def prep_for_r_120m(file):\n",
    "    df = df_diff_angle_120m(file)\n",
    "    name = get_name1(file)\n",
    "\n",
    "    df_a = df.filter(['angle'])\n",
    "        \n",
    "    return df_a.to_excel('angle_120m.xlsx')"
   ]
  },
  {
   "cell_type": "markdown",
   "id": "d16da769",
   "metadata": {},
   "source": [
    "Call R function and provide calculations, merge them in participant dataframe"
   ]
  },
  {
   "cell_type": "code",
   "execution_count": 168,
   "id": "e0bf077b",
   "metadata": {},
   "outputs": [],
   "source": [
    "#RUN!!\n",
    "\n",
    "#Excecute R circular analysis and make xlsx file with measurement\n",
    "\n",
    "def circ_in_r_120m(prep):\n",
    "\n",
    "    robjects.r('''\n",
    "        circ_anal <- function (xlsx_file) {\n",
    "          library(readxl)\n",
    "          library(circular)\n",
    "          library(openxlsx)\n",
    "          library(readr)\n",
    "          library(rlang)\n",
    "\n",
    "          angle_120m <- read_excel(xlsx_file)\n",
    "\n",
    "          angle_120m[1] <- NULL\n",
    "\n",
    "          circ120m <- data.frame(ID = colnames(angle_120m), \n",
    "                               RAY = NA,\n",
    "                               RAYsig = NA,\n",
    "                               MEAN = NA,\n",
    "                               Rho = NA)\n",
    "\n",
    "          for(i in 1:length(circ120m$ID)){\n",
    "            a <- angle_120m[,i]\n",
    "            a_circ <- circular(a, units = \"degrees\", zero = circular(pi/2), rotation = \"clock\")\n",
    "            circ120m$RAY[i] <- rayleigh.test(a_circ)$statistic\n",
    "            circ120m$RAYsig[i] <- rayleigh.test(a_circ)$p.value\n",
    "            circ120m$MEAN[i] <- mean.circular(a_circ, na.rm = TRUE)\n",
    "            circ120m$Rho[i] <- rho.circular(a_circ, na.rm = TRUE)\n",
    "\n",
    "          }\n",
    "\n",
    "\n",
    "          write.xlsx(circ120m,\"C:/Users/Neza/Downloads/tapping/circ120m_stat.xlsx\")\n",
    "\n",
    "        }\n",
    "\n",
    "        circ_anal(\"C:/Users/Neza/Downloads/tapping/angle_120m.xlsx\")\n",
    "    ''')"
   ]
  },
  {
   "cell_type": "markdown",
   "id": "64b5f7bd",
   "metadata": {},
   "source": [
    "Read excel with circular data and delete angle_80 and circ80_stat files."
   ]
  },
  {
   "cell_type": "code",
   "execution_count": 169,
   "id": "3bff3404",
   "metadata": {},
   "outputs": [],
   "source": [
    "#RUN!!!\n",
    "\n",
    "def final_circ_120m(file):\n",
    "    circular_120m(file)\n",
    "    \n",
    "    df1 = df_diff_angle_120m(file)\n",
    "    df2 = pd.read_excel('circ120m_stat.xlsx')\n",
    "\n",
    "    df = pd.concat([df1, df2], axis = 1)\n",
    "    df = df.drop('ID', axis=1)\n",
    "\n",
    "    os.remove(\"angle_120m.xlsx\")\n",
    "    os.remove(\"circ120m_stat.xlsx\")\n",
    "    \n",
    "    return df"
   ]
  },
  {
   "cell_type": "markdown",
   "id": "6b6cdd32",
   "metadata": {},
   "source": [
    "## Cont MTC"
   ]
  },
  {
   "cell_type": "markdown",
   "id": "83388ae7",
   "metadata": {},
   "source": [
    "Add abs(DIF) column, calculated both means, add contMTC column."
   ]
  },
  {
   "cell_type": "code",
   "execution_count": 170,
   "id": "8e7894a3",
   "metadata": {},
   "outputs": [],
   "source": [
    "#RUN!!\n",
    "def cont_mtc_120m(file):\n",
    "    df = final_circ_120m(file)\n",
    "    \n",
    "    df['abs_diff'] = df['diff'].abs()\n",
    "    df['m_diff'] = [np.mean(df['diff'])]+['']*(len(df)-1)\n",
    "    df['m_abs'] = [np.mean(df['abs_diff'])]+['']*(len(df)-1)\n",
    "    \n",
    "    first = df.iloc[:,0].tolist()\n",
    "    for i, line in enumerate(first):\n",
    "        if line <= 28:\n",
    "            first[i] = 0\n",
    "    df1 = pd.DataFrame({'contMTC': first})\n",
    "\n",
    "    frames = [df,df1]\n",
    "    df = pd.concat(frames, axis=1)\n",
    "    \n",
    "    return df"
   ]
  },
  {
   "cell_type": "markdown",
   "id": "35f538e4",
   "metadata": {},
   "source": [
    "### Add ioi filter and proceed last calculations"
   ]
  },
  {
   "cell_type": "code",
   "execution_count": 219,
   "id": "4357d748",
   "metadata": {},
   "outputs": [],
   "source": [
    "#RUN!!\n",
    "def final_concat_120m(file, directory):\n",
    "    excels = ioi_limits_120m(directory)\n",
    "    \n",
    "    df1 = cont_mtc_120m(file)\n",
    "    df2 = pd.read_excel('df_ioi_120m.xlsx', usecols=lambda x: 'Unnamed' not in x,)\n",
    "    \n",
    "    df2 = df2.drop('all_120m', axis=1)\n",
    "    \n",
    "    frames = [df1, df2]\n",
    "    df = pd.concat(frames, axis=1)\n",
    "    \n",
    "    os.remove(\"df_ioi_120m.xlsx\")\n",
    "    \n",
    "    return df"
   ]
  },
  {
   "cell_type": "markdown",
   "id": "723b36d5",
   "metadata": {},
   "source": [
    "## Cont IOI measures"
   ]
  },
  {
   "cell_type": "markdown",
   "id": "9970b19c",
   "metadata": {},
   "source": [
    "From contMTC delete if difference is out of calculated ioi limits."
   ]
  },
  {
   "cell_type": "code",
   "execution_count": 172,
   "id": "554eba19",
   "metadata": {},
   "outputs": [],
   "source": [
    "#RUN!!\n",
    "def pre_ioi_filt_120m(file, directory):\n",
    "    df = final_concat_120m(file, directory)\n",
    "    \n",
    "    df['Difference'] = df['contMTC'].diff()\n",
    "    first = df['Difference'].tolist()\n",
    "    \n",
    "    for i, vrstica in enumerate(first):\n",
    "        if vrstica < (df['min'].iloc[0]) or vrstica > (df['max'].iloc[0]):\n",
    "            first[i] = 0            \n",
    "            \n",
    "    df1 = pd.DataFrame({'preIOI': first})\n",
    "    frames = [df,df1]\n",
    "\n",
    "    df = pd.concat(frames, axis=1)\n",
    "    df = df.drop('Difference', axis = 1)\n",
    "    \n",
    "    col = df['preIOI'].tolist()\n",
    "    st = 0\n",
    "\n",
    "    for i, line in enumerate(col):\n",
    "        if line != 0 and st <= 29:\n",
    "            st += 1\n",
    "        elif line != 0 and st > 29:\n",
    "            col[i] = 0\n",
    "\n",
    "    df1 = pd.DataFrame({'preIOI_29': col})\n",
    "    frames = [df,df1]\n",
    "\n",
    "    df = pd.concat(frames, axis=1)\n",
    "    \n",
    "    return df"
   ]
  },
  {
   "cell_type": "markdown",
   "id": "232aade5",
   "metadata": {},
   "source": [
    "ContIOI calculated: delete smaller than 0.1 and outliers based on quartiles of participant (preIOI quartiles)."
   ]
  },
  {
   "cell_type": "code",
   "execution_count": 173,
   "id": "3485acea",
   "metadata": {},
   "outputs": [],
   "source": [
    "#RUN!!!\n",
    "\n",
    "def cont_ioi_final_120m(file, directory):\n",
    "    df = pre_ioi_filt_120m(file, directory)\n",
    "    df['contMTC'].replace(to_replace = 0, value = float('NaN'), inplace=True)\n",
    "    df['preIOI'].replace(to_replace = 0, value = float('NaN'), inplace=True)\n",
    "    df['preIOI_29'].replace(to_replace = 0, value = float('NaN'), inplace=True)\n",
    "    \n",
    "    first = df['preIOI_29'].tolist()\n",
    "    \n",
    "    q1 = np.quantile(first, .25)\n",
    "    q3 = np.quantile(first, .75)\n",
    "    iqr = q3 - q1\n",
    "    \n",
    "    for i, vrstica in enumerate(first):\n",
    "        if vrstica < 0.1 or vrstica < (q1 - (3*iqr)) or vrstica > (q3 + (3*iqr)):\n",
    "            first[i] = 0\n",
    "            \n",
    "            \n",
    "    df1 = pd.DataFrame({'contIOI': first})\n",
    "    frames = [df,df1]\n",
    "\n",
    "    df = pd.concat(frames, axis=1)\n",
    "    df['contIOI'].replace(to_replace = 0, value = float('NaN'), inplace=True)\n",
    "    \n",
    "    return df"
   ]
  },
  {
   "cell_type": "markdown",
   "id": "ae7991a5",
   "metadata": {},
   "source": [
    "Last measures: avg, std, IOI elemszám, TÖRÖLNI."
   ]
  },
  {
   "cell_type": "code",
   "execution_count": 174,
   "id": "e0681af0",
   "metadata": {},
   "outputs": [],
   "source": [
    "#RUN!!\n",
    "#Change get_name in final version!\n",
    "\n",
    "def all_calc_120m(file, directory):\n",
    "    df = cont_ioi_final_120m(file, directory)\n",
    "    name = get_name1(file)\n",
    "    \n",
    "    df['mIOIcont'] = [df['contIOI'].mean()]+['']*(len(df)-1)\n",
    "    df['CVcont'] = [(df['contIOI'].std())/(df['mIOIcont'].iloc[0])]+['']*(len(df)-1)\n",
    "    \n",
    "    df['IOIelemszam'] = [((df['contIOI'] != 0).sum())]+['']*(len(df)-1)\n",
    "    #df['torolni'] = [(df['IOIelemszam'].iloc[0]) - 29]+['']*(len(df)-1)\n",
    "    \n",
    "    return df"
   ]
  },
  {
   "cell_type": "markdown",
   "id": "427dec3e",
   "metadata": {},
   "source": [
    "# 150"
   ]
  },
  {
   "cell_type": "markdown",
   "id": "2af9ba35",
   "metadata": {},
   "source": [
    "### IOI limits calculation"
   ]
  },
  {
   "cell_type": "markdown",
   "id": "8ea557d4",
   "metadata": {},
   "source": [
    "##### Output just ioi data - for concatenate in IOI"
   ]
  },
  {
   "cell_type": "code",
   "execution_count": 184,
   "id": "3c328370",
   "metadata": {},
   "outputs": [],
   "source": [
    "#RUN\n",
    "def ioi_lim_alone_150(file):\n",
    "    df = read_edit_csv3(file)\n",
    "    name = get_name1(file)\n",
    "    \n",
    "    df['Difference'] = df.diff()\n",
    "    first = df.iloc[:,0].tolist()\n",
    "    second = df.iloc[:,1].tolist()\n",
    "\n",
    "    for vrstica1 in first:\n",
    "        for i, vrstica2 in enumerate(second):\n",
    "            if vrstica2 == vrstica1 or vrstica2 < 0.1:\n",
    "                vrstica2 = float('NaN')\n",
    "                second[i] = vrstica2\n",
    "            \n",
    "    df1 = pd.DataFrame({'ioi':second})\n",
    "    frames = [df,df1]\n",
    "\n",
    "    df = pd.concat(frames, axis=1)\n",
    "    df = df.drop('Difference', axis = 1)\n",
    "    df = df.rename(columns={\"ioi\": name})\n",
    "    df = df.iloc[: , 1:]\n",
    "    return df"
   ]
  },
  {
   "cell_type": "markdown",
   "id": "1e7763ea",
   "metadata": {},
   "source": [
    "Add to raw data clean (1.4<x<20.8)"
   ]
  },
  {
   "cell_type": "code",
   "execution_count": 185,
   "id": "fe9effe0",
   "metadata": {},
   "outputs": [],
   "source": [
    "#RUN!\n",
    "def ioi_lim_clean_150(file):\n",
    "    df = read_edit_csv3(file)\n",
    "    \n",
    "    first = df.iloc[:,0].tolist()\n",
    "    for i, line in enumerate(first):\n",
    "        if line < 1.4 or line > 20.8:\n",
    "            first[i] = 0\n",
    "    df1 = pd.DataFrame({'clean': first})\n",
    "    \n",
    "    frames = [df,df1]\n",
    "    df = pd.concat(frames, axis=1)\n",
    "\n",
    "    return df"
   ]
  },
  {
   "cell_type": "markdown",
   "id": "34316bf0",
   "metadata": {},
   "source": [
    "#### Outlier filtering "
   ]
  },
  {
   "cell_type": "markdown",
   "id": "51611bb5",
   "metadata": {},
   "source": [
    "##### Delete first 10 valid taps"
   ]
  },
  {
   "cell_type": "markdown",
   "id": "03c5c1db",
   "metadata": {},
   "source": [
    "After filtering, the first 10 valid taps are deleted from the beginning of each trial)"
   ]
  },
  {
   "cell_type": "code",
   "execution_count": 186,
   "id": "f84f631b",
   "metadata": {},
   "outputs": [],
   "source": [
    "#RUN!\n",
    "def ioi_lim_filt10_150(file):\n",
    "    df = ioi_lim_clean_150(file)\n",
    "    \n",
    "    df['diff'] = df['clean'].diff()\n",
    "    first = df.iloc[:,1].tolist()\n",
    "    second = df.iloc[:,2].tolist()\n",
    "    \n",
    "    delete = 0\n",
    "    for vrstica1 in first:\n",
    "        for i, vrstica2 in enumerate(second):\n",
    "            if vrstica2 == vrstica1 or vrstica2 < 0.1:\n",
    "                second[i] = 0\n",
    "            elif vrstica2 != 0 and delete < 10:\n",
    "                second[i] = 0\n",
    "                delete += 1\n",
    "    \n",
    "                           \n",
    "    df1 = pd.DataFrame({'filter10':second})\n",
    "    frames = [df,df1]\n",
    "\n",
    "    df = pd.concat(frames, axis=1)\n",
    "\n",
    "    return df"
   ]
  },
  {
   "cell_type": "markdown",
   "id": "b5f66993",
   "metadata": {},
   "source": [
    "Function for clean, filter and delete first 10 valid taps"
   ]
  },
  {
   "cell_type": "code",
   "execution_count": 187,
   "id": "c3e9b294",
   "metadata": {},
   "outputs": [],
   "source": [
    "#RUN!!\n",
    "def ioi_lim_clean10_150(file):\n",
    "    df = ioi_lim_filt10_150(file)\n",
    "       \n",
    "    \n",
    "    df['filtered'] = np.where(df['filter10'] == 0,\n",
    "                             df['filter10'], df['clean'])\n",
    "    \n",
    "    df['filtered'].replace(to_replace = 0, value = float('NaN'), inplace=True)\n",
    "\n",
    "    return df #return data frame with columns: input track, clean, diff, filter10, filtered"
   ]
  },
  {
   "cell_type": "markdown",
   "id": "832b456b",
   "metadata": {},
   "source": [
    "### Calculations"
   ]
  },
  {
   "cell_type": "markdown",
   "id": "53ed129b",
   "metadata": {},
   "source": [
    "Add REF column to the data frame"
   ]
  },
  {
   "cell_type": "code",
   "execution_count": 226,
   "id": "3da3922c",
   "metadata": {},
   "outputs": [],
   "source": [
    "#RUN!!\n",
    "def df_prep_150(file):\n",
    "    df = ioi_lim_clean10_150(file)\n",
    "    df = df.drop(['clean', 'diff', 'filter10'], axis=1)\n",
    "    \n",
    "    s = [0]\n",
    "    x = 0\n",
    "    while x < 20.4:\n",
    "        x += 0.4\n",
    "        s.append(x)\n",
    "\n",
    "    df['REF'] = pd.Series(s)\n",
    "\n",
    "    return df"
   ]
  },
  {
   "cell_type": "markdown",
   "id": "30fe1fee",
   "metadata": {},
   "source": [
    "Diff, nearest values"
   ]
  },
  {
   "cell_type": "code",
   "execution_count": 189,
   "id": "3f210fb5",
   "metadata": {},
   "outputs": [],
   "source": [
    "#RUN!!\n",
    "def df_diff_angle_150(file):\n",
    "    df = df_prep_150(file)\n",
    "    \n",
    "    df['diff'] = (pd.merge_asof(df['filtered'].dropna().sort_values().reset_index(),\n",
    "                                df[['REF']].dropna().sort_values('REF'),\n",
    "                                left_on='filtered', right_on='REF', direction='nearest')\n",
    "                    .set_index('index')['REF'].rsub(df['filtered'])\n",
    "                  )\n",
    "    \n",
    "    df['angle'] = (df['diff']/0.4)*360\n",
    "    \n",
    "    return df"
   ]
  },
  {
   "cell_type": "markdown",
   "id": "b1526479",
   "metadata": {},
   "source": [
    "### IOI data"
   ]
  },
  {
   "cell_type": "markdown",
   "id": "5be09ef5",
   "metadata": {},
   "source": [
    "Give you data frame with ioi data from all participants."
   ]
  },
  {
   "cell_type": "code",
   "execution_count": 190,
   "id": "259809fc",
   "metadata": {},
   "outputs": [],
   "source": [
    "#RUN!\n",
    "def get_files_150(directory):\n",
    "    seznam = []\n",
    "\n",
    "    for dirpath, dirnames, filenames in os.walk(directory): #directory with all folders of participants\n",
    "        for filename in [f for f in filenames if f.endswith(\"150.csv\")]: #search for all 80 files\n",
    "            seznam.append(os.path.join(dirpath, filename))\n",
    "            \n",
    "    return seznam"
   ]
  },
  {
   "cell_type": "code",
   "execution_count": 191,
   "id": "245bfc0f",
   "metadata": {},
   "outputs": [],
   "source": [
    "#RUN!!\n",
    "def ioi_frame_150(directory):\n",
    "    \n",
    "    seznam = get_files_150(directory)\n",
    "    li = []    \n",
    "    \n",
    "    for filename in seznam:\n",
    "        df = ioi_lim_alone_150(filename)\n",
    "        li.append(df)\n",
    "\n",
    "    frame = pd.concat(li, axis=1, ignore_index=False)\n",
    "    \n",
    "    return frame"
   ]
  },
  {
   "cell_type": "markdown",
   "id": "ba53edda",
   "metadata": {},
   "source": [
    "##### Concatenate just IOI data"
   ]
  },
  {
   "cell_type": "markdown",
   "id": "165bdfcd",
   "metadata": {},
   "source": [
    "### IOI-limits"
   ]
  },
  {
   "cell_type": "markdown",
   "id": "b537c87e",
   "metadata": {},
   "source": [
    "Add columns with all values together and calculate M, SD, Q1, Q3, IQR, MAX, MIN."
   ]
  },
  {
   "cell_type": "code",
   "execution_count": 192,
   "id": "8778300c",
   "metadata": {},
   "outputs": [],
   "source": [
    "#RUN!\n",
    "def list_ioi_calc_150(directory):\n",
    "    frame = ioi_frame_150(directory)\n",
    "    frame['combined']= frame.values.tolist()\n",
    "    li = []\n",
    "\n",
    "    for row in frame['combined']:\n",
    "        for vsak in row:\n",
    "            li.append(vsak)\n",
    "\n",
    "    new_array = [x for x in li if math.isnan(x) == False]\n",
    "    se = pd.Series(new_array)\n",
    "    \n",
    "    df_ioi = pd.DataFrame([new_array])\n",
    "    df_ioi = df_ioi.T\n",
    "    df_ioi['all_150'] = pd.DataFrame(data=se)\n",
    "    df_ioi = df_ioi.iloc[: , 1:]\n",
    "    \n",
    "    return df_ioi"
   ]
  },
  {
   "cell_type": "code",
   "execution_count": 193,
   "id": "456c74f9",
   "metadata": {},
   "outputs": [],
   "source": [
    "#RUN!!\n",
    "def ioi_limits_150(directory):\n",
    "    frame = ioi_frame_150(directory)\n",
    "    df_ioi = list_ioi_calc_150(directory)\n",
    "    \n",
    "    df_ioi['mean'] = [(df_ioi['all_150'].mean())]+['']*(len(df_ioi)-1)\n",
    "    frame['mean'] = df_ioi['mean']\n",
    "    \n",
    "    df_ioi['std'] = [(df_ioi['all_150'].std())]+['']*(len(df_ioi)-1)\n",
    "    frame['std'] = df_ioi['std']\n",
    "    \n",
    "    df_ioi['q1'] = [(df_ioi['all_150'].quantile(.25, interpolation=\"nearest\"))]+['']*(len(df_ioi)-1)\n",
    "    frame['q1'] = df_ioi['q1']\n",
    "    \n",
    "    df_ioi['q3'] = [(df_ioi['all_150'].quantile(.75, interpolation=\"nearest\"))]+['']*(len(df_ioi)-1)\n",
    "    frame['q3'] = df_ioi['q3']\n",
    "    \n",
    "    df_ioi['IQR'] = [(df_ioi['q3'].iloc[0] - df_ioi['q1'].iloc[0])]+['']*(len(df_ioi)-1)\n",
    "    frame['IQR'] = df_ioi['IQR']\n",
    "    \n",
    "    df_ioi['min'] = [(df_ioi['q1'].iloc[0] - (3*(df_ioi['IQR'].iloc[0])))]+['']*(len(df_ioi)-1)\n",
    "    frame['min'] = df_ioi['min']\n",
    "    \n",
    "    df_ioi['max'] = [(df_ioi['q3'].iloc[0] + (3*(df_ioi['IQR'].iloc[0])))]+['']*(len(df_ioi)-1)\n",
    "    frame['max'] = df_ioi['max']\n",
    "    \n",
    "    return df_ioi.to_excel('df_ioi_150.xlsx'), frame.to_excel('IOI_filter_150.xlsx')"
   ]
  },
  {
   "cell_type": "markdown",
   "id": "d2440bdd",
   "metadata": {},
   "source": [
    "### Circular analysis"
   ]
  },
  {
   "cell_type": "code",
   "execution_count": 194,
   "id": "bf18645f",
   "metadata": {},
   "outputs": [],
   "source": [
    "#RUN!!\n",
    "def circular_150(file):\n",
    "    prep = prep_for_r_150(file)\n",
    "    circ_in_r_150(prep)"
   ]
  },
  {
   "cell_type": "markdown",
   "id": "3e8ed860",
   "metadata": {},
   "source": [
    "Create xlsx with angel column to send in R"
   ]
  },
  {
   "cell_type": "code",
   "execution_count": 195,
   "id": "7b062c5c",
   "metadata": {},
   "outputs": [],
   "source": [
    "#RUN!!\n",
    "def prep_for_r_150(file):\n",
    "    df = df_diff_angle_150(file)\n",
    "    name = get_name1(file)\n",
    "\n",
    "    df_a = df.filter(['angle'])\n",
    "        \n",
    "    return df_a.to_excel('angle_150.xlsx')"
   ]
  },
  {
   "cell_type": "markdown",
   "id": "c0c9f0cc",
   "metadata": {},
   "source": [
    "Call R function and provide calculations, merge them in participant dataframe"
   ]
  },
  {
   "cell_type": "code",
   "execution_count": 196,
   "id": "9fb7ad0c",
   "metadata": {},
   "outputs": [],
   "source": [
    "#RUN!!\n",
    "\n",
    "#Excecute R circular analysis and make xlsx file with measurement\n",
    "#Change to right path, where should be excel files made\n",
    "\n",
    "def circ_in_r_150(prep):\n",
    "\n",
    "    robjects.r('''\n",
    "        circ_anal <- function (xlsx_file) {\n",
    "          library(readxl)\n",
    "          library(circular)\n",
    "          library(openxlsx)\n",
    "          library(readr)\n",
    "          library(rlang)\n",
    "\n",
    "          angle_150 <- read_excel(xlsx_file)\n",
    "\n",
    "          angle_150[1] <- NULL\n",
    "\n",
    "          circ150 <- data.frame(ID = colnames(angle_150), \n",
    "                               RAY = NA,\n",
    "                               RAYsig = NA,\n",
    "                               MEAN = NA,\n",
    "                               Rho = NA)\n",
    "\n",
    "          for(i in 1:length(circ150$ID)){\n",
    "            a <- angle_150[,i]\n",
    "            a_circ <- circular(a, units = \"degrees\", zero = circular(pi/2), rotation = \"clock\")\n",
    "            circ150$RAY[i] <- rayleigh.test(a_circ)$statistic\n",
    "            circ150$RAYsig[i] <- rayleigh.test(a_circ)$p.value\n",
    "            circ150$MEAN[i] <- mean.circular(a_circ, na.rm = TRUE)\n",
    "            circ150$Rho[i] <- rho.circular(a_circ, na.rm = TRUE)\n",
    "\n",
    "          }\n",
    "\n",
    "\n",
    "          write.xlsx(circ150,\"C:/Users/Neza/Downloads/tapping/circ150_stat.xlsx\")\n",
    "\n",
    "        }\n",
    "\n",
    "        circ_anal(\"C:/Users/Neza/Downloads/tapping/angle_150.xlsx\")\n",
    "    ''')"
   ]
  },
  {
   "cell_type": "markdown",
   "id": "8868b2a3",
   "metadata": {},
   "source": [
    "Read excel with circular data and delete angle_80 and circ80_stat files."
   ]
  },
  {
   "cell_type": "code",
   "execution_count": 197,
   "id": "1d078ee9",
   "metadata": {},
   "outputs": [],
   "source": [
    "#RUN!!!\n",
    "\n",
    "def final_circ_150(file):\n",
    "    circular_150(file)\n",
    "    \n",
    "    df1 = df_diff_angle_150(file)\n",
    "    df2 = pd.read_excel('circ150_stat.xlsx')\n",
    "\n",
    "    df = pd.concat([df1, df2], axis = 1)\n",
    "    df = df.drop('ID', axis=1)\n",
    "\n",
    "    os.remove(\"angle_150.xlsx\")\n",
    "    os.remove(\"circ150_stat.xlsx\")\n",
    "    \n",
    "    return df"
   ]
  },
  {
   "cell_type": "markdown",
   "id": "4e7706d8",
   "metadata": {},
   "source": [
    "## Cont MTC"
   ]
  },
  {
   "cell_type": "markdown",
   "id": "f685001e",
   "metadata": {},
   "source": [
    "Add abs(DIF) column, calculated both means, add contMTC column."
   ]
  },
  {
   "cell_type": "code",
   "execution_count": 198,
   "id": "5320cac3",
   "metadata": {},
   "outputs": [],
   "source": [
    "#RUN!!\n",
    "def cont_mtc_150(file):\n",
    "    df = final_circ_150(file)\n",
    "    \n",
    "    df['abs_diff'] = df['diff'].abs()\n",
    "    df['m_diff'] = [np.mean(df['diff'])]+['']*(len(df)-1)\n",
    "    df['m_abs'] = [np.mean(df['abs_diff'])]+['']*(len(df)-1)\n",
    "    \n",
    "    first = df.iloc[:,0].tolist()\n",
    "    for i, line in enumerate(first):\n",
    "        if line <= 20.8:\n",
    "            first[i] = 0\n",
    "    df1 = pd.DataFrame({'contMTC': first})\n",
    "\n",
    "    frames = [df,df1]\n",
    "    df = pd.concat(frames, axis=1)\n",
    "    \n",
    "    return df"
   ]
  },
  {
   "cell_type": "markdown",
   "id": "0b78b5cd",
   "metadata": {},
   "source": [
    "### Add ioi filter and proceed last calculations"
   ]
  },
  {
   "cell_type": "code",
   "execution_count": 199,
   "id": "ddf33715",
   "metadata": {},
   "outputs": [],
   "source": [
    "#RUN!!\n",
    "def final_concat_150(file, directory):\n",
    "    excels = ioi_limits_150(directory)\n",
    "    \n",
    "    df1 = cont_mtc_150(file)\n",
    "    df2 = pd.read_excel('df_ioi_150.xlsx', usecols=lambda x: 'Unnamed' not in x,)\n",
    "    \n",
    "    df2 = df2.drop('all_150', axis=1)\n",
    "    \n",
    "    frames = [df1, df2]\n",
    "    df = pd.concat(frames, axis=1)\n",
    "    \n",
    "    os.remove(\"df_ioi_150.xlsx\")\n",
    "    \n",
    "    return df"
   ]
  },
  {
   "cell_type": "markdown",
   "id": "9809d75f",
   "metadata": {},
   "source": [
    "## Cont IOI measures"
   ]
  },
  {
   "cell_type": "markdown",
   "id": "30941223",
   "metadata": {},
   "source": [
    "From contMTC delete if difference is out of calculated ioi limits."
   ]
  },
  {
   "cell_type": "code",
   "execution_count": 200,
   "id": "3b932259",
   "metadata": {},
   "outputs": [],
   "source": [
    "#RUN!!\n",
    "def pre_ioi_filt_150(file, directory):\n",
    "    df = final_concat_150(file, directory)\n",
    "    \n",
    "    df['Difference'] = df['contMTC'].diff()\n",
    "    first = df['Difference'].tolist()\n",
    "    \n",
    "    for i, vrstica in enumerate(first):\n",
    "        if vrstica < (df['min'].iloc[0]) or vrstica > (df['max'].iloc[0]):\n",
    "            first[i] = 0            \n",
    "            \n",
    "    df1 = pd.DataFrame({'preIOI': first})\n",
    "    frames = [df,df1]\n",
    "\n",
    "    df = pd.concat(frames, axis=1)\n",
    "    df = df.drop('Difference', axis = 1)\n",
    "    \n",
    "    col = df['preIOI'].tolist()\n",
    "    st = 0\n",
    "\n",
    "    for i, line in enumerate(col):\n",
    "        if line != 0 and st <= 29:\n",
    "            st += 1\n",
    "        elif line != 0 and st > 29:\n",
    "            col[i] = 0\n",
    "\n",
    "    df1 = pd.DataFrame({'preIOI_29': col})\n",
    "    frames = [df,df1]\n",
    "\n",
    "    df = pd.concat(frames, axis=1)\n",
    "    \n",
    "    return df"
   ]
  },
  {
   "cell_type": "markdown",
   "id": "8240b935",
   "metadata": {},
   "source": [
    "ContIOI calculated: delete smaller than 0.1 and outliers based on quartiles of participant (preIOI quartiles)."
   ]
  },
  {
   "cell_type": "code",
   "execution_count": 201,
   "id": "2ac0e071",
   "metadata": {},
   "outputs": [],
   "source": [
    "#RUN!!!\n",
    "\n",
    "def cont_ioi_final_150(file, directory):\n",
    "    df = pre_ioi_filt_150(file, directory)\n",
    "    df['contMTC'].replace(to_replace = 0, value = float('NaN'), inplace=True)\n",
    "    df['preIOI'].replace(to_replace = 0, value = float('NaN'), inplace=True)\n",
    "    df['preIOI_29'].replace(to_replace = 0, value = float('NaN'), inplace=True)\n",
    "    \n",
    "    first = df['preIOI_29'].tolist()\n",
    "    \n",
    "    q1 = np.quantile(first, .25)\n",
    "    q3 = np.quantile(first, .75)\n",
    "    iqr = q3 - q1\n",
    "    \n",
    "    for i, vrstica in enumerate(first):\n",
    "        if vrstica < 0.1 or vrstica < (q1 - (3*iqr)) or vrstica > (q3 + (3*iqr)):\n",
    "            first[i] = 0\n",
    "            \n",
    "            \n",
    "    df1 = pd.DataFrame({'contIOI': first})\n",
    "    frames = [df,df1]\n",
    "\n",
    "    df = pd.concat(frames, axis=1)\n",
    "    df['contIOI'].replace(to_replace = 0, value = float('NaN'), inplace=True)\n",
    "    \n",
    "    return df"
   ]
  },
  {
   "cell_type": "markdown",
   "id": "8debd2f6",
   "metadata": {},
   "source": [
    "Last measures: avg, std, IOI elemszám, TÖRÖLNI."
   ]
  },
  {
   "cell_type": "code",
   "execution_count": 202,
   "id": "532a05d5",
   "metadata": {},
   "outputs": [],
   "source": [
    "#RUN!!\n",
    "#Change get_name in final version!\n",
    "\n",
    "def all_calc_150(file, directory):\n",
    "    df = cont_ioi_final_150(file, directory)\n",
    "    #name = get_name1(file)\n",
    "    \n",
    "    df['mIOIcont'] = [df['contIOI'].mean()]+['']*(len(df)-1)\n",
    "    df['CVcont'] = [(df['contIOI'].std())/(df['mIOIcont'].iloc[0])]+['']*(len(df)-1)\n",
    "    \n",
    "    df['IOIelemszam'] = [((df['contIOI'] != 0).sum())]+['']*(len(df)-1)\n",
    "    \n",
    "    return df"
   ]
  },
  {
   "cell_type": "markdown",
   "id": "27c45e87",
   "metadata": {},
   "source": [
    "# 150m - Functions on one sheet"
   ]
  },
  {
   "cell_type": "markdown",
   "id": "8d763aba",
   "metadata": {},
   "source": [
    "Everything same as in 150, just on metronome, all calculations are same."
   ]
  },
  {
   "cell_type": "markdown",
   "id": "9dd3e61d",
   "metadata": {},
   "source": [
    "### IOI limits calculation"
   ]
  },
  {
   "cell_type": "markdown",
   "id": "0fee3a10",
   "metadata": {},
   "source": [
    "##### Output just ioi data - for concatenate in IOI"
   ]
  },
  {
   "cell_type": "code",
   "execution_count": 203,
   "id": "111f8476",
   "metadata": {},
   "outputs": [],
   "source": [
    "#RUN\n",
    "def ioi_lim_alone_150m(file):\n",
    "    df = read_edit_csv3(file)\n",
    "    name = get_name2(file)\n",
    "    \n",
    "    df['Difference'] = df.diff()\n",
    "    first = df.iloc[:,0].tolist()\n",
    "    second = df.iloc[:,1].tolist()\n",
    "\n",
    "    for vrstica1 in first:\n",
    "        for i, vrstica2 in enumerate(second):\n",
    "            if vrstica2 == vrstica1 or vrstica2 < 0.1:\n",
    "                vrstica2 = float('NaN')\n",
    "                second[i] = vrstica2\n",
    "            \n",
    "    df1 = pd.DataFrame({'ioi':second})\n",
    "    frames = [df,df1]\n",
    "\n",
    "    df = pd.concat(frames, axis=1)\n",
    "    df = df.drop('Difference', axis = 1)\n",
    "    df = df.rename(columns={\"ioi\": name})\n",
    "    df = df.iloc[: , 1:]\n",
    "    return df"
   ]
  },
  {
   "cell_type": "markdown",
   "id": "4b7f7c49",
   "metadata": {},
   "source": [
    "Add to raw data clean (1.4<x<20.8)"
   ]
  },
  {
   "cell_type": "code",
   "execution_count": 204,
   "id": "ed436522",
   "metadata": {},
   "outputs": [],
   "source": [
    "#RUN!\n",
    "def ioi_lim_clean_150m(file):\n",
    "    df = read_edit_csv3(file)\n",
    "    \n",
    "    first = df.iloc[:,0].tolist()\n",
    "    for i, line in enumerate(first):\n",
    "        if line < 1.4 or line > 20.8:\n",
    "            first[i] = 0\n",
    "    df1 = pd.DataFrame({'clean': first})\n",
    "    \n",
    "    frames = [df,df1]\n",
    "    df = pd.concat(frames, axis=1)\n",
    "\n",
    "    return df"
   ]
  },
  {
   "cell_type": "markdown",
   "id": "8fc8a295",
   "metadata": {},
   "source": [
    "#### Outlier filtering "
   ]
  },
  {
   "cell_type": "markdown",
   "id": "df6e85b7",
   "metadata": {},
   "source": [
    "##### Delete first 10 valid taps"
   ]
  },
  {
   "cell_type": "markdown",
   "id": "103ab993",
   "metadata": {},
   "source": [
    "After filtering, the first 10 valid taps are deleted from the beginning of each trial)"
   ]
  },
  {
   "cell_type": "code",
   "execution_count": 205,
   "id": "92891db8",
   "metadata": {},
   "outputs": [],
   "source": [
    "#RUN!\n",
    "def ioi_lim_filt10_150m(file):\n",
    "    df = ioi_lim_clean_150m(file)\n",
    "    \n",
    "    df['diff'] = df['clean'].diff()\n",
    "    first = df.iloc[:,1].tolist()\n",
    "    second = df.iloc[:,2].tolist()\n",
    "    \n",
    "    delete = 0\n",
    "    for vrstica1 in first:\n",
    "        for i, vrstica2 in enumerate(second):\n",
    "            if vrstica2 == vrstica1 or vrstica2 < 0.1:\n",
    "                second[i] = 0\n",
    "            elif vrstica2 != 0 and delete < 10:\n",
    "                second[i] = 0\n",
    "                delete += 1\n",
    "    \n",
    "                           \n",
    "    df1 = pd.DataFrame({'filter10':second})\n",
    "    frames = [df,df1]\n",
    "\n",
    "    df = pd.concat(frames, axis=1)\n",
    "\n",
    "    return df"
   ]
  },
  {
   "cell_type": "markdown",
   "id": "77b76675",
   "metadata": {},
   "source": [
    "Function for clean, filter and delete first 10 valid taps"
   ]
  },
  {
   "cell_type": "code",
   "execution_count": 206,
   "id": "e60e6e27",
   "metadata": {},
   "outputs": [],
   "source": [
    "#RUN!!\n",
    "def ioi_lim_clean10_150m(file):\n",
    "    df = ioi_lim_filt10_150m(file)\n",
    "       \n",
    "    \n",
    "    df['filtered'] = np.where(df['filter10'] == 0,\n",
    "                             df['filter10'], df['clean'])\n",
    "    \n",
    "    df['filtered'].replace(to_replace = 0, value = float('NaN'), inplace=True)\n",
    "\n",
    "    return df #return data frame with columns: input track, clean, diff, filter10, filtered"
   ]
  },
  {
   "cell_type": "markdown",
   "id": "acbcbb5f",
   "metadata": {},
   "source": [
    "### Calculations"
   ]
  },
  {
   "cell_type": "markdown",
   "id": "f138163f",
   "metadata": {},
   "source": [
    "Add REF column to the data frame"
   ]
  },
  {
   "cell_type": "code",
   "execution_count": 225,
   "id": "1d1bf055",
   "metadata": {},
   "outputs": [],
   "source": [
    "#RUN!!\n",
    "def df_prep_150m(file):\n",
    "    df = ioi_lim_clean10_150m(file)\n",
    "    df = df.drop(['clean', 'diff', 'filter10'], axis=1)\n",
    "    \n",
    "    s = [0]\n",
    "    x = 0\n",
    "    while x < 20.4:\n",
    "        x += 0.4\n",
    "        s.append(x)\n",
    "\n",
    "    df['REF'] = pd.Series(s)\n",
    "\n",
    "    return df"
   ]
  },
  {
   "cell_type": "markdown",
   "id": "596f99a6",
   "metadata": {},
   "source": [
    "Diff, nearest values"
   ]
  },
  {
   "cell_type": "code",
   "execution_count": 208,
   "id": "10d8648c",
   "metadata": {},
   "outputs": [],
   "source": [
    "#RUN!!\n",
    "def df_diff_angle_150m(file):\n",
    "    df = df_prep_150m(file)\n",
    "    \n",
    "    df['diff'] = (pd.merge_asof(df['filtered'].dropna().sort_values().reset_index(),\n",
    "                                df[['REF']].dropna().sort_values('REF'),\n",
    "                                left_on='filtered', right_on='REF', direction='nearest')\n",
    "                    .set_index('index')['REF'].rsub(df['filtered'])\n",
    "                  )\n",
    "    \n",
    "    df['angle'] = (df['diff']/0.4)*360\n",
    "    \n",
    "    return df"
   ]
  },
  {
   "cell_type": "markdown",
   "id": "2ae59777",
   "metadata": {},
   "source": [
    "### IOI data"
   ]
  },
  {
   "cell_type": "markdown",
   "id": "c40e058e",
   "metadata": {},
   "source": [
    "Give you data frame with ioi data from all participants."
   ]
  },
  {
   "cell_type": "code",
   "execution_count": 209,
   "id": "f5b648b1",
   "metadata": {},
   "outputs": [],
   "source": [
    "#RUN!\n",
    "def get_files_150m(directory):\n",
    "    seznam = []\n",
    "\n",
    "    for dirpath, dirnames, filenames in os.walk(directory): #directory with all folders of participants\n",
    "        for filename in [f for f in filenames if f.endswith(\"150m.csv\")]: #search for all 150m files\n",
    "            seznam.append(os.path.join(dirpath, filename))\n",
    "            \n",
    "    return seznam"
   ]
  },
  {
   "cell_type": "code",
   "execution_count": 210,
   "id": "8883d213",
   "metadata": {},
   "outputs": [],
   "source": [
    "#RUN!!\n",
    "def ioi_frame_150m(directory):\n",
    "    \n",
    "    seznam = get_files_150m(directory)\n",
    "    li = []    \n",
    "    \n",
    "    for filename in seznam:\n",
    "        df = ioi_lim_alone_150m(filename)\n",
    "        li.append(df)\n",
    "\n",
    "    frame = pd.concat(li, axis=1, ignore_index=False)\n",
    "    \n",
    "    return frame"
   ]
  },
  {
   "cell_type": "markdown",
   "id": "4a9d682b",
   "metadata": {},
   "source": [
    "##### Concatenate just IOI data"
   ]
  },
  {
   "cell_type": "markdown",
   "id": "1fddcdc1",
   "metadata": {},
   "source": [
    "### IOI-limits"
   ]
  },
  {
   "cell_type": "markdown",
   "id": "47f56dd8",
   "metadata": {},
   "source": [
    "Add columns with all values together and calculate M, SD, Q1, Q3, IQR, MAX, MIN."
   ]
  },
  {
   "cell_type": "code",
   "execution_count": 211,
   "id": "8965f98d",
   "metadata": {},
   "outputs": [],
   "source": [
    "#RUN!\n",
    "def list_ioi_calc_150m(directory):\n",
    "    frame = ioi_frame_150m(directory)\n",
    "    frame['combined']= frame.values.tolist()\n",
    "    li = []\n",
    "\n",
    "    for row in frame['combined']:\n",
    "        for vsak in row:\n",
    "            li.append(vsak)\n",
    "\n",
    "    new_array = [x for x in li if math.isnan(x) == False]\n",
    "    se = pd.Series(new_array)\n",
    "    \n",
    "    df_ioi = pd.DataFrame([new_array])\n",
    "    df_ioi = df_ioi.T\n",
    "    df_ioi['all_150m'] = pd.DataFrame(data=se)\n",
    "    df_ioi = df_ioi.iloc[: , 1:]\n",
    "    \n",
    "    return df_ioi"
   ]
  },
  {
   "cell_type": "code",
   "execution_count": 212,
   "id": "c41d1969",
   "metadata": {},
   "outputs": [],
   "source": [
    "#RUN!!\n",
    "def ioi_limits_150m(directory):\n",
    "    frame = ioi_frame_150m(directory)\n",
    "    df_ioi = list_ioi_calc_150m(directory)\n",
    "    \n",
    "    df_ioi['mean'] = [(df_ioi['all_150m'].mean())]+['']*(len(df_ioi)-1)\n",
    "    frame['mean'] = df_ioi['mean']\n",
    "    \n",
    "    df_ioi['std'] = [(df_ioi['all_150m'].std())]+['']*(len(df_ioi)-1)\n",
    "    frame['std'] = df_ioi['std']\n",
    "    \n",
    "    df_ioi['q1'] = [(df_ioi['all_150m'].quantile(.25, interpolation=\"nearest\"))]+['']*(len(df_ioi)-1)\n",
    "    frame['q1'] = df_ioi['q1']\n",
    "    \n",
    "    df_ioi['q3'] = [(df_ioi['all_150m'].quantile(.75, interpolation=\"nearest\"))]+['']*(len(df_ioi)-1)\n",
    "    frame['q3'] = df_ioi['q3']\n",
    "    \n",
    "    df_ioi['IQR'] = [(df_ioi['q3'].iloc[0] - df_ioi['q1'].iloc[0])]+['']*(len(df_ioi)-1)\n",
    "    frame['IQR'] = df_ioi['IQR']\n",
    "    \n",
    "    df_ioi['min'] = [(df_ioi['q1'].iloc[0] - (3*(df_ioi['IQR'].iloc[0])))]+['']*(len(df_ioi)-1)\n",
    "    frame['min'] = df_ioi['min']\n",
    "    \n",
    "    df_ioi['max'] = [(df_ioi['q3'].iloc[0] + (3*(df_ioi['IQR'].iloc[0])))]+['']*(len(df_ioi)-1)\n",
    "    frame['max'] = df_ioi['max']\n",
    "    \n",
    "    return df_ioi.to_excel('df_ioi_150m.xlsx'), frame.to_excel('IOI_filter_150m.xlsx')"
   ]
  },
  {
   "cell_type": "markdown",
   "id": "a6579505",
   "metadata": {},
   "source": [
    "### Circular analysis"
   ]
  },
  {
   "cell_type": "code",
   "execution_count": 213,
   "id": "4a4b9422",
   "metadata": {},
   "outputs": [],
   "source": [
    "#RUN!!\n",
    "def circular_150m(file):\n",
    "    prep = prep_for_r_150m(file)\n",
    "    circ_in_r_150m(prep)"
   ]
  },
  {
   "cell_type": "markdown",
   "id": "fea24fe6",
   "metadata": {},
   "source": [
    "Create xlsx with angel column to send in R"
   ]
  },
  {
   "cell_type": "code",
   "execution_count": 214,
   "id": "88e447ce",
   "metadata": {},
   "outputs": [],
   "source": [
    "#RUN!!\n",
    "def prep_for_r_150m(file):\n",
    "    df = df_diff_angle_150m(file)\n",
    "    name = get_name1(file)\n",
    "\n",
    "    df_a = df.filter(['angle'])\n",
    "        \n",
    "    return df_a.to_excel('angle_150m.xlsx')"
   ]
  },
  {
   "cell_type": "markdown",
   "id": "d7afb96d",
   "metadata": {},
   "source": [
    "Call R function and provide calculations, merge them in participant dataframe"
   ]
  },
  {
   "cell_type": "code",
   "execution_count": 215,
   "id": "d9f60b65",
   "metadata": {},
   "outputs": [],
   "source": [
    "#RUN!!\n",
    "\n",
    "#Excecute R circular analysis and make xlsx file with measurement\n",
    "\n",
    "def circ_in_r_150m(prep):\n",
    "\n",
    "    robjects.r('''\n",
    "        circ_anal <- function (xlsx_file) {\n",
    "          library(readxl)\n",
    "          library(circular)\n",
    "          library(openxlsx)\n",
    "          library(readr)\n",
    "          library(rlang)\n",
    "\n",
    "          angle_150m <- read_excel(xlsx_file)\n",
    "\n",
    "          angle_150m[1] <- NULL\n",
    "\n",
    "          circ150m <- data.frame(ID = colnames(angle_150m), \n",
    "                               RAY = NA,\n",
    "                               RAYsig = NA,\n",
    "                               MEAN = NA,\n",
    "                               Rho = NA)\n",
    "\n",
    "          for(i in 1:length(circ150m$ID)){\n",
    "            a <- angle_150m[,i]\n",
    "            a_circ <- circular(a, units = \"degrees\", zero = circular(pi/2), rotation = \"clock\")\n",
    "            circ150m$RAY[i] <- rayleigh.test(a_circ)$statistic\n",
    "            circ150m$RAYsig[i] <- rayleigh.test(a_circ)$p.value\n",
    "            circ150m$MEAN[i] <- mean.circular(a_circ, na.rm = TRUE)\n",
    "            circ150m$Rho[i] <- rho.circular(a_circ, na.rm = TRUE)\n",
    "\n",
    "          }\n",
    "\n",
    "\n",
    "          write.xlsx(circ150m,\"C:/Users/Neza/Downloads/tapping/circ150m_stat.xlsx\")\n",
    "\n",
    "        }\n",
    "\n",
    "        circ_anal(\"C:/Users/Neza/Downloads/tapping/angle_150m.xlsx\")\n",
    "    ''')"
   ]
  },
  {
   "cell_type": "markdown",
   "id": "b4265c86",
   "metadata": {},
   "source": [
    "Read excel with circular data and delete angle_80 and circ80_stat files."
   ]
  },
  {
   "cell_type": "code",
   "execution_count": 216,
   "id": "c7ecf14c",
   "metadata": {},
   "outputs": [],
   "source": [
    "#RUN!!!\n",
    "\n",
    "def final_circ_150m(file):\n",
    "    circular_150m(file)\n",
    "    \n",
    "    df1 = df_diff_angle_150m(file)\n",
    "    df2 = pd.read_excel('circ150m_stat.xlsx')\n",
    "\n",
    "    df = pd.concat([df1, df2], axis = 1)\n",
    "    df = df.drop('ID', axis=1)\n",
    "\n",
    "    os.remove(\"angle_150m.xlsx\")\n",
    "    os.remove(\"circ150m_stat.xlsx\")\n",
    "    \n",
    "    return df"
   ]
  },
  {
   "cell_type": "markdown",
   "id": "73d8ca2a",
   "metadata": {},
   "source": [
    "## Cont MTC"
   ]
  },
  {
   "cell_type": "markdown",
   "id": "0eb6dcf3",
   "metadata": {},
   "source": [
    "Add abs(DIF) column, calculated both means, add contMTC column."
   ]
  },
  {
   "cell_type": "code",
   "execution_count": 217,
   "id": "d76e7254",
   "metadata": {},
   "outputs": [],
   "source": [
    "#RUN!!\n",
    "def cont_mtc_150m(file):\n",
    "    df = final_circ_150m(file)\n",
    "    \n",
    "    df['abs_diff'] = df['diff'].abs()\n",
    "    df['m_diff'] = [np.mean(df['diff'])]+['']*(len(df)-1)\n",
    "    df['m_abs'] = [np.mean(df['abs_diff'])]+['']*(len(df)-1)\n",
    "    \n",
    "    first = df.iloc[:,0].tolist()\n",
    "    for i, line in enumerate(first):\n",
    "        if line <= 20.8:\n",
    "            first[i] = 0\n",
    "    df1 = pd.DataFrame({'contMTC': first})\n",
    "\n",
    "    frames = [df,df1]\n",
    "    df = pd.concat(frames, axis=1)\n",
    "    \n",
    "    return df"
   ]
  },
  {
   "cell_type": "markdown",
   "id": "d3cd5939",
   "metadata": {},
   "source": [
    "### Add ioi filter and proceed last calculations"
   ]
  },
  {
   "cell_type": "code",
   "execution_count": 218,
   "id": "b15780a5",
   "metadata": {},
   "outputs": [],
   "source": [
    "#RUN!!\n",
    "def final_concat_150m(file, directory):\n",
    "    excels = ioi_limits_150m(directory)\n",
    "    \n",
    "    df1 = cont_mtc_150m(file)\n",
    "    df2 = pd.read_excel('df_ioi_150m.xlsx', usecols=lambda x: 'Unnamed' not in x,)\n",
    "    \n",
    "    df2 = df2.drop('all_150m', axis=1)\n",
    "    \n",
    "    frames = [df1, df2]\n",
    "    df = pd.concat(frames, axis=1)\n",
    "    \n",
    "    os.remove(\"df_ioi_150m.xlsx\")\n",
    "    \n",
    "    return df"
   ]
  },
  {
   "cell_type": "markdown",
   "id": "750acbf7",
   "metadata": {},
   "source": [
    "## Cont IOI measures"
   ]
  },
  {
   "cell_type": "markdown",
   "id": "dd41f01e",
   "metadata": {},
   "source": [
    "From contMTC delete if difference is out of calculated ioi limits."
   ]
  },
  {
   "cell_type": "code",
   "execution_count": 220,
   "id": "ce0f5f79",
   "metadata": {},
   "outputs": [],
   "source": [
    "#RUN!!\n",
    "def pre_ioi_filt_150m(file, directory):\n",
    "    df = final_concat_150m(file, directory)\n",
    "    \n",
    "    df['Difference'] = df['contMTC'].diff()\n",
    "    first = df['Difference'].tolist()\n",
    "    \n",
    "    for i, vrstica in enumerate(first):\n",
    "        if vrstica < (df['min'].iloc[0]) or vrstica > (df['max'].iloc[0]):\n",
    "            first[i] = 0            \n",
    "            \n",
    "    df1 = pd.DataFrame({'preIOI': first})\n",
    "    frames = [df,df1]\n",
    "\n",
    "    df = pd.concat(frames, axis=1)\n",
    "    df = df.drop('Difference', axis = 1)\n",
    "    \n",
    "    col = df['preIOI'].tolist()\n",
    "    st = 0\n",
    "\n",
    "    for i, line in enumerate(col):\n",
    "        if line != 0 and st <= 29:\n",
    "            st += 1\n",
    "        elif line != 0 and st > 29:\n",
    "            col[i] = 0\n",
    "\n",
    "    df1 = pd.DataFrame({'preIOI_29': col})\n",
    "    frames = [df,df1]\n",
    "\n",
    "    df = pd.concat(frames, axis=1)\n",
    "    \n",
    "    return df"
   ]
  },
  {
   "cell_type": "markdown",
   "id": "b232af91",
   "metadata": {},
   "source": [
    "ContIOI calculated: delete smaller than 0.1 and outliers based on quartiles of participant (preIOI quartiles)."
   ]
  },
  {
   "cell_type": "code",
   "execution_count": 221,
   "id": "faed7442",
   "metadata": {},
   "outputs": [],
   "source": [
    "#RUN!!!\n",
    "\n",
    "def cont_ioi_final_150m(file, directory):\n",
    "    df = pre_ioi_filt_150m(file, directory)\n",
    "    df['contMTC'].replace(to_replace = 0, value = float('NaN'), inplace=True)\n",
    "    df['preIOI'].replace(to_replace = 0, value = float('NaN'), inplace=True)\n",
    "    df['preIOI_29'].replace(to_replace = 0, value = float('NaN'), inplace=True)\n",
    "    \n",
    "    first = df['preIOI_29'].tolist()\n",
    "    \n",
    "    q1 = np.quantile(first, .25)\n",
    "    q3 = np.quantile(first, .75)\n",
    "    iqr = q3 - q1\n",
    "    \n",
    "    for i, vrstica in enumerate(first):\n",
    "        if vrstica < 0.1 or vrstica < (q1 - (3*iqr)) or vrstica > (q3 + (3*iqr)):\n",
    "            first[i] = 0\n",
    "            \n",
    "            \n",
    "    df1 = pd.DataFrame({'contIOI': first})\n",
    "    frames = [df,df1]\n",
    "\n",
    "    df = pd.concat(frames, axis=1)\n",
    "    df['contIOI'].replace(to_replace = 0, value = float('NaN'), inplace=True)\n",
    "    \n",
    "    return df"
   ]
  },
  {
   "cell_type": "markdown",
   "id": "57fd855b",
   "metadata": {},
   "source": [
    "Last measures: avg, std, IOI elemszám, TÖRÖLNI."
   ]
  },
  {
   "cell_type": "code",
   "execution_count": 222,
   "id": "f6959282",
   "metadata": {},
   "outputs": [],
   "source": [
    "#RUN!!\n",
    "#Change get_name in final version!\n",
    "\n",
    "def all_calc_150m(file, directory):\n",
    "    df = cont_ioi_final_150m(file, directory)\n",
    "    name = get_name1(file)\n",
    "    \n",
    "    df['mIOIcont'] = [df['contIOI'].mean()]+['']*(len(df)-1)\n",
    "    df['CVcont'] = [(df['contIOI'].std())/(df['mIOIcont'].iloc[0])]+['']*(len(df)-1)\n",
    "    \n",
    "    df['IOIelemszam'] = [((df['contIOI'] != 0).sum())]+['']*(len(df)-1)\n",
    "    #df['torolni'] = [(df['IOIelemszam'].iloc[0]) - 29]+['']*(len(df)-1)\n",
    "    \n",
    "    return df"
   ]
  },
  {
   "cell_type": "markdown",
   "id": "1681ef99",
   "metadata": {},
   "source": [
    "# Merged dataframes - reading through folders"
   ]
  },
  {
   "cell_type": "markdown",
   "id": "38e69d24",
   "metadata": {},
   "source": [
    "Make all measurements for one participant"
   ]
  },
  {
   "cell_type": "markdown",
   "id": "3e29a109",
   "metadata": {},
   "source": [
    "Goes through folder with participants folders and output the list with all correct files from participants."
   ]
  },
  {
   "cell_type": "markdown",
   "id": "ebef5b21",
   "metadata": {},
   "source": [
    "### Final code"
   ]
  },
  {
   "cell_type": "code",
   "execution_count": 223,
   "id": "884d6b62",
   "metadata": {},
   "outputs": [],
   "source": [
    "#RUN!!!\n",
    "def final(directory):\n",
    "\n",
    "    seznam80 = []\n",
    "    seznam80m = []\n",
    "    seznam120 = []\n",
    "    seznam120m = []\n",
    "    seznam150 = []\n",
    "    seznam150m = []\n",
    "    dirp = []\n",
    "\n",
    "    for dirpath, dirnames, filenames in os.walk(directory): #directory with all folders of participants\n",
    "            for filename in [f for f in filenames if f.endswith(\"80.csv\")]: #search for all 80 files\n",
    "                seznam80.append(os.path.join(dirpath, filename))\n",
    "                dirp.append(dirpath)\n",
    "\n",
    "    for dirpath, dirnames, filenames in os.walk(directory): #directory with all folders of participants\n",
    "            for filename in [f for f in filenames if f.endswith(\"80m.csv\")]: #search for all 80m files\n",
    "                seznam80m.append(os.path.join(dirpath, filename))\n",
    "    \n",
    "    for dirpath, dirnames, filenames in os.walk(directory): #directory with all folders of participants\n",
    "            for filename in [f for f in filenames if f.endswith(\"120.csv\")]: #search for all 120 files\n",
    "                seznam120.append(os.path.join(dirpath, filename))\n",
    "    \n",
    "    for dirpath, dirnames, filenames in os.walk(directory): #directory with all folders of participants\n",
    "            for filename in [f for f in filenames if f.endswith(\"120m.csv\")]: #search for all 120m files\n",
    "                seznam120m.append(os.path.join(dirpath, filename))\n",
    "                \n",
    "    for dirpath, dirnames, filenames in os.walk(directory): #directory with all folders of participants\n",
    "            for filename in [f for f in filenames if f.endswith(\"150.csv\")]: #search for all 150 files\n",
    "                seznam150.append(os.path.join(dirpath, filename))\n",
    "    \n",
    "    for dirpath, dirnames, filenames in os.walk(directory): #directory with all folders of participants\n",
    "            for filename in [f for f in filenames if f.endswith(\"150m.csv\")]: #search for all 150m files\n",
    "                seznam150m.append(os.path.join(dirpath, filename))\n",
    "\n",
    "\n",
    "    for vsak80, vsak80m, vsak120, vsak120m, vsak150, vsak150m, pot in zip(seznam80, seznam80m, seznam120, seznam120m, seznam150, seznam150m, dirp):\n",
    "            path = pot + '_all_anal.xlsx'\n",
    "\n",
    "            file1 = vsak80\n",
    "            df1 = all_calc_80(file1, directory)\n",
    "\n",
    "            file2 = vsak80m\n",
    "            df2 = all_calc_80m(file2, directory)\n",
    "            \n",
    "            file3 = vsak120\n",
    "            df3 = all_calc_120(file3, directory)\n",
    "\n",
    "            file4 = vsak120m\n",
    "            df4 = all_calc_120m(file4, directory)\n",
    "            \n",
    "            file5 = vsak150\n",
    "            df5 = all_calc_150(file5, directory)\n",
    "\n",
    "            file6 = vsak150m\n",
    "            df6 = all_calc_150m(file6, directory)\n",
    "\n",
    "            writer = pd.ExcelWriter(path, engine = 'xlsxwriter')\n",
    "            df1.to_excel(writer, sheet_name = '80')\n",
    "            df2.to_excel(writer, sheet_name = '80m')\n",
    "            df3.to_excel(writer, sheet_name = '120')\n",
    "            df4.to_excel(writer, sheet_name = '120m')\n",
    "            df5.to_excel(writer, sheet_name = '150')\n",
    "            df6.to_excel(writer, sheet_name = '150m')\n",
    "            writer.close()\n"
   ]
  },
  {
   "cell_type": "markdown",
   "id": "80f3e794",
   "metadata": {},
   "source": [
    "# TEST"
   ]
  },
  {
   "cell_type": "code",
   "execution_count": 227,
   "id": "23b5f96d",
   "metadata": {},
   "outputs": [
    {
     "name": "stderr",
     "output_type": "stream",
     "text": [
      "R[write to console]: \n",
      "R[write to console]: -\n",
      "R[write to console]: \n",
      "R[write to console]: /\n",
      "                                                                              \n",
      "R[write to console]: \n",
      "R[write to console]: \n",
      "R[write to console]: /\n",
      "                                                                              \n",
      "R[write to console]: \n",
      "R[write to console]: \n",
      "R[write to console]: -\n",
      "                                                                              \n",
      "R[write to console]: \n"
     ]
    },
    {
     "name": "stdout",
     "output_type": "stream",
     "text": [
      "\u001b[1m\u001b[22mNew names:\n",
      "\u001b[36m*\u001b[39m `` -> `...1`\n"
     ]
    },
    {
     "name": "stderr",
     "output_type": "stream",
     "text": [
      "R[write to console]: \n",
      "R[write to console]: -\n",
      "R[write to console]: \n",
      "R[write to console]: /\n",
      "                                                                              \n",
      "R[write to console]: \n",
      "R[write to console]: \n",
      "R[write to console]: /\n",
      "                                                                              \n",
      "R[write to console]: \n",
      "R[write to console]: \n",
      "R[write to console]: -\n",
      "                                                                              \n",
      "R[write to console]: \n"
     ]
    },
    {
     "name": "stdout",
     "output_type": "stream",
     "text": [
      "\u001b[1m\u001b[22mNew names:\n",
      "\u001b[36m*\u001b[39m `` -> `...1`\n"
     ]
    },
    {
     "name": "stderr",
     "output_type": "stream",
     "text": [
      "R[write to console]: \n",
      "R[write to console]: -\n",
      "R[write to console]: \n",
      "R[write to console]: /\n",
      "                                                                              \n",
      "R[write to console]: \n",
      "R[write to console]: \n",
      "R[write to console]: /\n",
      "                                                                              \n",
      "R[write to console]: \n",
      "R[write to console]: \n",
      "R[write to console]: -\n",
      "                                                                              \n",
      "R[write to console]: \n"
     ]
    },
    {
     "name": "stdout",
     "output_type": "stream",
     "text": [
      "\u001b[1m\u001b[22mNew names:\n",
      "\u001b[36m*\u001b[39m `` -> `...1`\n"
     ]
    },
    {
     "name": "stderr",
     "output_type": "stream",
     "text": [
      "R[write to console]: \n",
      "R[write to console]: -\n",
      "R[write to console]: \n",
      "R[write to console]: /\n",
      "                                                                              \n",
      "R[write to console]: \n",
      "R[write to console]: \n",
      "R[write to console]: /\n",
      "                                                                              \n",
      "R[write to console]: \n",
      "R[write to console]: \n",
      "R[write to console]: -\n",
      "                                                                              \n",
      "R[write to console]: \n"
     ]
    },
    {
     "name": "stdout",
     "output_type": "stream",
     "text": [
      "\u001b[1m\u001b[22mNew names:\n",
      "\u001b[36m*\u001b[39m `` -> `...1`\n"
     ]
    },
    {
     "name": "stderr",
     "output_type": "stream",
     "text": [
      "R[write to console]: \n",
      "R[write to console]: -\n",
      "R[write to console]: \n",
      "R[write to console]: /\n",
      "                                                                              \n",
      "R[write to console]: \n",
      "R[write to console]: \n",
      "R[write to console]: /\n",
      "                                                                              \n",
      "R[write to console]: \n",
      "R[write to console]: \n",
      "R[write to console]: -\n",
      "                                                                              \n",
      "R[write to console]: \n"
     ]
    },
    {
     "name": "stdout",
     "output_type": "stream",
     "text": [
      "\u001b[1m\u001b[22mNew names:\n",
      "\u001b[36m*\u001b[39m `` -> `...1`\n"
     ]
    },
    {
     "name": "stderr",
     "output_type": "stream",
     "text": [
      "R[write to console]: \n",
      "R[write to console]: -\n",
      "R[write to console]: \n",
      "R[write to console]: /\n",
      "                                                                              \n",
      "R[write to console]: \n",
      "R[write to console]: \n",
      "R[write to console]: /\n",
      "                                                                              \n",
      "R[write to console]: \n",
      "R[write to console]: \n",
      "R[write to console]: -\n",
      "                                                                              \n",
      "R[write to console]: \n"
     ]
    },
    {
     "name": "stdout",
     "output_type": "stream",
     "text": [
      "\u001b[1m\u001b[22mNew names:\n",
      "\u001b[36m*\u001b[39m `` -> `...1`\n"
     ]
    },
    {
     "name": "stderr",
     "output_type": "stream",
     "text": [
      "R[write to console]: \n",
      "R[write to console]: -\n",
      "R[write to console]: \n",
      "R[write to console]: /\n",
      "                                                                              \n",
      "R[write to console]: \n",
      "R[write to console]: \n",
      "R[write to console]: /\n",
      "                                                                              \n",
      "R[write to console]: \n",
      "R[write to console]: \n",
      "R[write to console]: -\n",
      "                                                                              \n",
      "R[write to console]: \n"
     ]
    },
    {
     "name": "stdout",
     "output_type": "stream",
     "text": [
      "\u001b[1m\u001b[22mNew names:\n",
      "\u001b[36m*\u001b[39m `` -> `...1`\n"
     ]
    },
    {
     "name": "stderr",
     "output_type": "stream",
     "text": [
      "R[write to console]: \n",
      "R[write to console]: -\n",
      "R[write to console]: \n",
      "R[write to console]: /\n",
      "                                                                              \n",
      "R[write to console]: \n",
      "R[write to console]: \n",
      "R[write to console]: /\n",
      "                                                                              \n",
      "R[write to console]: \n",
      "R[write to console]: \n",
      "R[write to console]: -\n",
      "                                                                              \n",
      "R[write to console]: \n"
     ]
    },
    {
     "name": "stdout",
     "output_type": "stream",
     "text": [
      "\u001b[1m\u001b[22mNew names:\n",
      "\u001b[36m*\u001b[39m `` -> `...1`\n"
     ]
    },
    {
     "name": "stderr",
     "output_type": "stream",
     "text": [
      "R[write to console]: \n",
      "R[write to console]: -\n",
      "R[write to console]: \n",
      "R[write to console]: /\n",
      "                                                                              \n",
      "R[write to console]: \n",
      "R[write to console]: \n",
      "R[write to console]: /\n",
      "                                                                              \n",
      "R[write to console]: \n",
      "R[write to console]: \n",
      "R[write to console]: -\n",
      "                                                                              \n",
      "R[write to console]: \n"
     ]
    },
    {
     "name": "stdout",
     "output_type": "stream",
     "text": [
      "\u001b[1m\u001b[22mNew names:\n",
      "\u001b[36m*\u001b[39m `` -> `...1`\n"
     ]
    },
    {
     "name": "stderr",
     "output_type": "stream",
     "text": [
      "R[write to console]: \n",
      "R[write to console]: -\n",
      "R[write to console]: \n",
      "R[write to console]: /\n",
      "                                                                              \n",
      "R[write to console]: \n",
      "R[write to console]: \n",
      "R[write to console]: /\n",
      "                                                                              \n",
      "R[write to console]: \n",
      "R[write to console]: \n",
      "R[write to console]: -\n",
      "                                                                              \n",
      "R[write to console]: \n"
     ]
    },
    {
     "name": "stdout",
     "output_type": "stream",
     "text": [
      "\u001b[1m\u001b[22mNew names:\n",
      "\u001b[36m*\u001b[39m `` -> `...1`\n"
     ]
    },
    {
     "name": "stderr",
     "output_type": "stream",
     "text": [
      "R[write to console]: \n",
      "R[write to console]: -\n",
      "R[write to console]: \n",
      "R[write to console]: /\n",
      "                                                                              \n",
      "R[write to console]: \n",
      "R[write to console]: \n",
      "R[write to console]: /\n",
      "                                                                              \n",
      "R[write to console]: \n",
      "R[write to console]: \n",
      "R[write to console]: -\n",
      "                                                                              \n",
      "R[write to console]: \n"
     ]
    },
    {
     "name": "stdout",
     "output_type": "stream",
     "text": [
      "\u001b[1m\u001b[22mNew names:\n",
      "\u001b[36m*\u001b[39m `` -> `...1`\n"
     ]
    },
    {
     "name": "stderr",
     "output_type": "stream",
     "text": [
      "R[write to console]: \n",
      "R[write to console]: -\n",
      "R[write to console]: \n",
      "R[write to console]: /\n",
      "                                                                              \n",
      "R[write to console]: \n",
      "R[write to console]: \n",
      "R[write to console]: /\n",
      "                                                                              \n",
      "R[write to console]: \n",
      "R[write to console]: \n",
      "R[write to console]: -\n",
      "                                                                              \n",
      "R[write to console]: \n"
     ]
    },
    {
     "name": "stdout",
     "output_type": "stream",
     "text": [
      "\u001b[1m\u001b[22mNew names:\n",
      "\u001b[36m*\u001b[39m `` -> `...1`\n"
     ]
    },
    {
     "name": "stderr",
     "output_type": "stream",
     "text": [
      "R[write to console]: \n",
      "R[write to console]: -\n",
      "R[write to console]: \n",
      "R[write to console]: /\n",
      "                                                                              \n",
      "R[write to console]: \n",
      "R[write to console]: \n",
      "R[write to console]: /\n",
      "                                                                              \n",
      "R[write to console]: \n",
      "R[write to console]: \n",
      "R[write to console]: -\n",
      "                                                                              \n",
      "R[write to console]: \n"
     ]
    },
    {
     "name": "stdout",
     "output_type": "stream",
     "text": [
      "\u001b[1m\u001b[22mNew names:\n",
      "\u001b[36m*\u001b[39m `` -> `...1`\n"
     ]
    },
    {
     "name": "stderr",
     "output_type": "stream",
     "text": [
      "R[write to console]: \n",
      "R[write to console]: -\n",
      "R[write to console]: \n",
      "R[write to console]: /\n",
      "                                                                              \n",
      "R[write to console]: \n",
      "R[write to console]: \n",
      "R[write to console]: /\n",
      "                                                                              \n",
      "R[write to console]: \n",
      "R[write to console]: \n",
      "R[write to console]: -\n",
      "                                                                              \n",
      "R[write to console]: \n"
     ]
    },
    {
     "name": "stdout",
     "output_type": "stream",
     "text": [
      "\u001b[1m\u001b[22mNew names:\n",
      "\u001b[36m*\u001b[39m `` -> `...1`\n"
     ]
    },
    {
     "name": "stderr",
     "output_type": "stream",
     "text": [
      "R[write to console]: \n",
      "R[write to console]: -\n",
      "R[write to console]: \n",
      "R[write to console]: /\n",
      "                                                                              \n",
      "R[write to console]: \n",
      "R[write to console]: \n",
      "R[write to console]: /\n",
      "                                                                              \n",
      "R[write to console]: \n",
      "R[write to console]: \n",
      "R[write to console]: -\n",
      "                                                                              \n",
      "R[write to console]: \n"
     ]
    },
    {
     "name": "stdout",
     "output_type": "stream",
     "text": [
      "\u001b[1m\u001b[22mNew names:\n",
      "\u001b[36m*\u001b[39m `` -> `...1`\n"
     ]
    },
    {
     "name": "stderr",
     "output_type": "stream",
     "text": [
      "R[write to console]: \n",
      "R[write to console]: -\n",
      "R[write to console]: \n",
      "R[write to console]: /\n",
      "                                                                              \n",
      "R[write to console]: \n",
      "R[write to console]: \n",
      "R[write to console]: /\n",
      "                                                                              \n",
      "R[write to console]: \n",
      "R[write to console]: \n",
      "R[write to console]: -\n",
      "                                                                              \n",
      "R[write to console]: \n"
     ]
    },
    {
     "name": "stdout",
     "output_type": "stream",
     "text": [
      "\u001b[1m\u001b[22mNew names:\n",
      "\u001b[36m*\u001b[39m `` -> `...1`\n"
     ]
    },
    {
     "name": "stderr",
     "output_type": "stream",
     "text": [
      "R[write to console]: \n",
      "R[write to console]: -\n",
      "R[write to console]: \n",
      "R[write to console]: /\n",
      "                                                                              \n",
      "R[write to console]: \n",
      "R[write to console]: \n",
      "R[write to console]: /\n",
      "                                                                              \n",
      "R[write to console]: \n",
      "R[write to console]: \n",
      "R[write to console]: -\n",
      "                                                                              \n",
      "R[write to console]: \n"
     ]
    },
    {
     "name": "stdout",
     "output_type": "stream",
     "text": [
      "\u001b[1m\u001b[22mNew names:\n",
      "\u001b[36m*\u001b[39m `` -> `...1`\n"
     ]
    },
    {
     "name": "stderr",
     "output_type": "stream",
     "text": [
      "R[write to console]: \n",
      "R[write to console]: -\n",
      "R[write to console]: \n",
      "R[write to console]: /\n",
      "                                                                              \n",
      "R[write to console]: \n",
      "R[write to console]: \n",
      "R[write to console]: /\n",
      "                                                                              \n",
      "R[write to console]: \n",
      "R[write to console]: \n",
      "R[write to console]: -\n",
      "                                                                              \n",
      "R[write to console]: \n"
     ]
    },
    {
     "name": "stdout",
     "output_type": "stream",
     "text": [
      "\u001b[1m\u001b[22mNew names:\n",
      "\u001b[36m*\u001b[39m `` -> `...1`\n"
     ]
    }
   ],
   "source": [
    "directory = 'test'\n",
    "final(directory)"
   ]
  },
  {
   "cell_type": "code",
   "execution_count": null,
   "id": "446ad8cb",
   "metadata": {},
   "outputs": [],
   "source": [
    "#For testing, put in function of participant\n",
    "\n",
    "path = r\"test//ab3b//ab3b_all_anal.xlsx\"\n",
    "directory = \"test\"\n",
    "\n",
    "file1 = \"test//ab3b//ab3b80.csv\"\n",
    "df1 = all_calc_80(file1, directory)\n",
    "\n",
    "file2 = \"test//ab3b//ab3b80m.csv\"\n",
    "df2 = all_calc_80m(file2, directory)\n",
    "\n",
    "writer = pd.ExcelWriter(path, engine = 'xlsxwriter')\n",
    "df1.to_excel(writer, sheet_name = '80')\n",
    "df2.to_excel(writer, sheet_name = '80m')\n",
    "writer.close()"
   ]
  },
  {
   "cell_type": "code",
   "execution_count": null,
   "id": "0c872818",
   "metadata": {},
   "outputs": [],
   "source": [
    "file1 = \"test//ab3b//ab3b80.csv\"\n",
    "directory = \"test\"\n",
    "df1 = all_calc_80(file1, directory1)"
   ]
  },
  {
   "cell_type": "code",
   "execution_count": null,
   "id": "9b28c574",
   "metadata": {},
   "outputs": [],
   "source": [
    "df.head(83)"
   ]
  },
  {
   "cell_type": "code",
   "execution_count": null,
   "id": "40586df2",
   "metadata": {},
   "outputs": [],
   "source": [
    "directory = 'test'\n",
    "\n",
    "seznam80 = []\n",
    "seznam80m = []\n",
    "dirp = []\n",
    "\n",
    "for dirpath, dirnames, filenames in os.walk(directory): #directory with all folders of participants\n",
    "        for filename in [f for f in filenames if f.endswith(\"80.csv\")]: #search for all 80 files\n",
    "            seznam80.append(os.path.join(dirpath, filename))\n",
    "            dirp.append(dirpath)\n",
    "            \n",
    "for dirpath, dirnames, filenames in os.walk(directory): #directory with all folders of participants\n",
    "        for filename in [f for f in filenames if f.endswith(\"80m.csv\")]: #search for all 80 files\n",
    "            seznam80m.append(os.path.join(dirpath, filename))\n",
    "\n",
    "\n",
    "for vsak1, vsak2, pot in zip(seznam80, seznam80m, dirp):\n",
    "        path = pot + '_all_anal.xlsx'\n",
    "        \n",
    "        file1 = vsak1\n",
    "        df1 = all_calc_80(file1, directory)\n",
    "        \n",
    "        file2 = vsak2\n",
    "        df2 = all_calc_80m(file2, directory)\n",
    "        \n",
    "        writer = pd.ExcelWriter(path, engine = 'xlsxwriter')\n",
    "        df1.to_excel(writer, sheet_name = '80')\n",
    "        df2.to_excel(writer, sheet_name = '80m')\n",
    "        writer.close()\n",
    "            \n",
    "\n"
   ]
  }
 ],
 "metadata": {
  "kernelspec": {
   "display_name": "Python 3 (ipykernel)",
   "language": "python",
   "name": "python3"
  },
  "language_info": {
   "codemirror_mode": {
    "name": "ipython",
    "version": 3
   },
   "file_extension": ".py",
   "mimetype": "text/x-python",
   "name": "python",
   "nbconvert_exporter": "python",
   "pygments_lexer": "ipython3",
   "version": "3.9.5"
  }
 },
 "nbformat": 4,
 "nbformat_minor": 5
}
